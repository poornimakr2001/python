{
  "nbformat": 4,
  "nbformat_minor": 0,
  "metadata": {
    "colab": {
      "provenance": [],
      "authorship_tag": "ABX9TyMlqAmvW5F4242prItoOI2e",
      "include_colab_link": true
    },
    "kernelspec": {
      "name": "python3",
      "display_name": "Python 3"
    },
    "language_info": {
      "name": "python"
    }
  },
  "cells": [
    {
      "cell_type": "markdown",
      "metadata": {
        "id": "view-in-github",
        "colab_type": "text"
      },
      "source": [
        "<a href=\"https://colab.research.google.com/github/poornimakr2001/python/blob/ds/olapop.ipynb\" target=\"_parent\"><img src=\"https://colab.research.google.com/assets/colab-badge.svg\" alt=\"Open In Colab\"/></a>"
      ]
    },
    {
      "cell_type": "code",
      "execution_count": 1,
      "metadata": {
        "colab": {
          "base_uri": "https://localhost:8080/"
        },
        "id": "sYkvGClUnFvZ",
        "outputId": "499c8616-af04-4ecf-a3cf-0aee26d44f8d"
      },
      "outputs": [
        {
          "output_type": "stream",
          "name": "stdout",
          "text": [
            "Slice operation (Year = 2020):\n",
            "   Region Product  Year  Sales\n",
            "0  North       A  2020   1500\n",
            "1  North       B  2020   2000\n",
            "4  South       A  2020   1700\n",
            "5  South       B  2020   1900\n",
            "\n",
            "Dice operation (Region = 'North' or 'East' and Product = 'A'):\n",
            "   Region Product  Year  Sales\n",
            "0  North       A  2020   1500\n",
            "2   East       A  2021   1800\n",
            "\n",
            "Roll-up operation (Sales by Region):\n",
            "   Region  Sales\n",
            "0   East   4000\n",
            "1  North   3500\n",
            "2  South   3600\n",
            "3   West   3700\n",
            "\n",
            "Drill-down operation (Sales by Region and Year):\n",
            "   Region  Year  Sales\n",
            "0   East  2021   4000\n",
            "1  North  2020   3500\n",
            "2  South  2020   3600\n",
            "3   West  2021   3700\n",
            "\n",
            "Original DataFrame:\n",
            "   Region Product  Year  Sales\n",
            "0  North       A  2020   1500\n",
            "1  North       B  2020   2000\n",
            "2   East       A  2021   1800\n",
            "3   East       B  2021   2200\n",
            "4  South       A  2020   1700\n",
            "5  South       B  2020   1900\n",
            "6   West       A  2021   1600\n",
            "7   West       B  2021   2100\n"
          ]
        }
      ],
      "source": [
        "# Step 1: Import necessary libraries\n",
        "import pandas as pd\n",
        "\n",
        "# Step 2: Create a sample dataset (simulating a sales data cube)\n",
        "data = {\n",
        "    'Region': ['North', 'North', 'East', 'East', 'South', 'South', 'West', 'West'],\n",
        "    'Product': ['A', 'B', 'A', 'B', 'A', 'B', 'A', 'B'],\n",
        "    'Year': [2020, 2020, 2021, 2021, 2020, 2020, 2021, 2021],\n",
        "    'Sales': [1500, 2000, 1800, 2200, 1700, 1900, 1600, 2100]\n",
        "}\n",
        "\n",
        "# Step 3: Convert the data into a Pandas DataFrame\n",
        "df = pd.DataFrame(data)\n",
        "\n",
        "# Step 4: Perform OLAP Operations\n",
        "\n",
        "# (1) SLICE: Selecting data for the year 2020\n",
        "slice_df = df[df['Year'] == 2020]\n",
        "print(\"Slice operation (Year = 2020):\\n\", slice_df)\n",
        "\n",
        "# (2) DICE: Selecting data where Region is 'North' or 'East' and Product is 'A'\n",
        "dice_df = df[(df['Region'].isin(['North', 'East'])) & (df['Product'] == 'A')]\n",
        "print(\"\\nDice operation (Region = 'North' or 'East' and Product = 'A'):\\n\", dice_df)\n",
        "\n",
        "# (3) ROLL-UP: Grouping sales data by Region\n",
        "rollup_df = df.groupby('Region')['Sales'].sum().reset_index()\n",
        "print(\"\\nRoll-up operation (Sales by Region):\\n\", rollup_df)\n",
        "\n",
        "# (4) DRILL-DOWN: Sales by Region and Year (breaking down the Region level by Year)\n",
        "drilldown_df = df.groupby(['Region', 'Year'])['Sales'].sum().reset_index()\n",
        "print(\"\\nDrill-down operation (Sales by Region and Year):\\n\", drilldown_df)\n",
        "\n",
        "# Step 5: Display the data\n",
        "print(\"\\nOriginal DataFrame:\\n\", df)\n"
      ]
    }
  ]
}