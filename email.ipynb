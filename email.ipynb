{
  "nbformat": 4,
  "nbformat_minor": 0,
  "metadata": {
    "colab": {
      "provenance": [],
      "authorship_tag": "ABX9TyPGjNSpFXfGQIMHcJpH4K1u",
      "include_colab_link": true
    },
    "kernelspec": {
      "name": "python3",
      "display_name": "Python 3"
    },
    "language_info": {
      "name": "python"
    }
  },
  "cells": [
    {
      "cell_type": "markdown",
      "metadata": {
        "id": "view-in-github",
        "colab_type": "text"
      },
      "source": [
        "<a href=\"https://colab.research.google.com/github/poornimakr2001/python/blob/ds/email.ipynb\" target=\"_parent\"><img src=\"https://colab.research.google.com/assets/colab-badge.svg\" alt=\"Open In Colab\"/></a>"
      ]
    },
    {
      "cell_type": "code",
      "source": [
        "import smtplib\n",
        "from email.mime.multipart import MIMEMultipart\n",
        "from email.mime.text import MIMEText\n",
        "\n",
        "def send_email():\n",
        "    # Email configuration\n",
        "    sender_email = \"msccs2322@rajagiri.edu\"\n",
        "    receiver_email = \"krpoornima886@gmail.com\"\n",
        "    password = \"\"\n",
        "\n",
        "    # Create the email content\n",
        "    msg = MIMEMultipart()\n",
        "    msg['From'] = sender_email\n",
        "    msg['To'] = receiver_email\n",
        "    msg['Subject'] = \"Daily Report\"\n",
        "\n",
        "    # Email body\n",
        "    body = \"This is your daily report.\"\n",
        "    msg.attach(MIMEText(body, 'plain'))\n",
        "\n",
        "    # SMTP server configuration\n",
        "    smtp_server = \"smtp.example.com\"  # e.g., smtp.gmail.com for Gmail\n",
        "    port = 587  # For starttls\n",
        "\n",
        "    server = None # Initialize server here\n",
        "    try:\n",
        "        server = smtplib.SMTP(smtp_server, port)\n",
        "        server.starttls()\n",
        "        server.login(sender_email, password)\n",
        "        text = msg.as_string()\n",
        "        server.sendmail(sender_email, receiver_email, text)\n",
        "        print(\"Email sent successfully!\")\n",
        "    except Exception as e:\n",
        "        print(f\"Failed to send email: {e}\")\n",
        "    finally:\n",
        "        if server: # Check if server was assigned before quitting\n",
        "            server.quit()\n",
        "\n",
        "if __name__ == \"__main__\":\n",
        "    send_email()"
      ],
      "metadata": {
        "colab": {
          "base_uri": "https://localhost:8080/"
        },
        "id": "wczNX1dutzN9",
        "outputId": "dbf3404c-095b-4115-a7ce-7f247fa2e336"
      },
      "execution_count": 2,
      "outputs": [
        {
          "output_type": "stream",
          "name": "stdout",
          "text": [
            "Failed to send email: [Errno -2] Name or service not known\n"
          ]
        }
      ]
    },
    {
      "cell_type": "code",
      "source": [
        "crontab -e\n"
      ],
      "metadata": {
        "colab": {
          "base_uri": "https://localhost:8080/",
          "height": 141
        },
        "id": "4Sp7lZSfvsnF",
        "outputId": "c97a4ed2-08f5-4437-994e-a28026c58e8f"
      },
      "execution_count": 3,
      "outputs": [
        {
          "output_type": "error",
          "ename": "NameError",
          "evalue": "name 'crontab' is not defined",
          "traceback": [
            "\u001b[0;31m---------------------------------------------------------------------------\u001b[0m",
            "\u001b[0;31mNameError\u001b[0m                                 Traceback (most recent call last)",
            "\u001b[0;32m<ipython-input-3-e64acba1b7b8>\u001b[0m in \u001b[0;36m<cell line: 1>\u001b[0;34m()\u001b[0m\n\u001b[0;32m----> 1\u001b[0;31m \u001b[0mcrontab\u001b[0m \u001b[0;34m-\u001b[0m\u001b[0me\u001b[0m\u001b[0;34m\u001b[0m\u001b[0;34m\u001b[0m\u001b[0m\n\u001b[0m",
            "\u001b[0;31mNameError\u001b[0m: name 'crontab' is not defined"
          ]
        }
      ]
    },
    {
      "cell_type": "code",
      "source": [
        "!crontab -e"
      ],
      "metadata": {
        "colab": {
          "base_uri": "https://localhost:8080/"
        },
        "id": "j11CnNluv1xB",
        "outputId": "68fe98a4-47de-42a0-d74a-e8e2f4184100"
      },
      "execution_count": 4,
      "outputs": [
        {
          "output_type": "stream",
          "name": "stdout",
          "text": [
            "/bin/bash: line 1: crontab: command not found\n"
          ]
        }
      ]
    }
  ]
}