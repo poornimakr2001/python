{
  "nbformat": 4,
  "nbformat_minor": 0,
  "metadata": {
    "colab": {
      "provenance": [],
      "authorship_tag": "ABX9TyNlfc8EC4kquIJfwSUQxMnU",
      "include_colab_link": true
    },
    "kernelspec": {
      "name": "python3",
      "display_name": "Python 3"
    },
    "language_info": {
      "name": "python"
    }
  },
  "cells": [
    {
      "cell_type": "markdown",
      "metadata": {
        "id": "view-in-github",
        "colab_type": "text"
      },
      "source": [
        "<a href=\"https://colab.research.google.com/github/poornimakr2001/python/blob/ds/lab1_7.ipynb\" target=\"_parent\"><img src=\"https://colab.research.google.com/assets/colab-badge.svg\" alt=\"Open In Colab\"/></a>"
      ]
    },
    {
      "cell_type": "code",
      "execution_count": 1,
      "metadata": {
        "colab": {
          "base_uri": "https://localhost:8080/"
        },
        "id": "ZeHgsAuaOf_5",
        "outputId": "20e88c20-8b72-4579-8949-7ce973b49cc3"
      },
      "outputs": [
        {
          "output_type": "stream",
          "name": "stdout",
          "text": [
            "Random integer: 5\n",
            "Random float: 0.7497952531108631\n",
            "Random float between 1 and 10: 5.083257331006544\n",
            "Random choice: apple\n",
            "Shuffled list: [2, 5, 4, 3, 1]\n",
            "Numpy random integer: 7\n",
            "Numpy random float: 0.0750763201521294\n",
            "Numpy random array: [0.06195076 0.89430008 0.93092932 0.18453839 0.66132601]\n",
            "Numpy random integer array: [9 3 7 1 1]\n",
            "Numpy random matrix:\n",
            "[[0.41419138 0.36074167 0.83154746]\n",
            " [0.37948984 0.38410181 0.23966901]]\n"
          ]
        }
      ],
      "source": [
        "import random\n",
        "import numpy as np\n",
        "\n",
        "# Using random module\n",
        "\n",
        "# Generate a random integer between 1 and 10\n",
        "random_integer = random.randint(1, 10)\n",
        "print(f\"Random integer: {random_integer}\")\n",
        "\n",
        "# Generate a random floating-point number between 0 and 1\n",
        "random_float = random.random()\n",
        "print(f\"Random float: {random_float}\")\n",
        "\n",
        "# Generate a random floating-point number between 1 and 10\n",
        "random_uniform = random.uniform(1, 10)\n",
        "print(f\"Random float between 1 and 10: {random_uniform}\")\n",
        "\n",
        "# Generate a random choice from a list\n",
        "random_choice = random.choice(['apple', 'banana', 'cherry'])\n",
        "print(f\"Random choice: {random_choice}\")\n",
        "\n",
        "# Shuffle a list\n",
        "sample_list = [1, 2, 3, 4, 5]\n",
        "random.shuffle(sample_list)\n",
        "print(f\"Shuffled list: {sample_list}\")\n",
        "\n",
        "# Using numpy\n",
        "\n",
        "# Generate a random integer between 1 and 10\n",
        "np_random_integer = np.random.randint(1, 11)\n",
        "print(f\"Numpy random integer: {np_random_integer}\")\n",
        "\n",
        "# Generate a random floating-point number between 0 and 1\n",
        "np_random_float = np.random.rand()\n",
        "print(f\"Numpy random float: {np_random_float}\")\n",
        "\n",
        "# Generate an array of random floating-point numbers between 0 and 1\n",
        "np_random_array = np.random.rand(5)\n",
        "print(f\"Numpy random array: {np_random_array}\")\n",
        "\n",
        "# Generate an array of random integers between 1 and 10\n",
        "np_random_int_array = np.random.randint(1, 11, size=5)\n",
        "print(f\"Numpy random integer array: {np_random_int_array}\")\n",
        "\n",
        "# Generate a 2x3 array of random floating-point numbers between 0 and 1\n",
        "np_random_matrix = np.random.rand(2, 3)\n",
        "print(f\"Numpy random matrix:\\n{np_random_matrix}\")\n"
      ]
    }
  ]
}