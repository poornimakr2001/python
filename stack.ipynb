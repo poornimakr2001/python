{
  "nbformat": 4,
  "nbformat_minor": 0,
  "metadata": {
    "colab": {
      "provenance": [],
      "authorship_tag": "ABX9TyPvQsNhd9GcfOi94IYG0srN",
      "include_colab_link": true
    },
    "kernelspec": {
      "name": "python3",
      "display_name": "Python 3"
    },
    "language_info": {
      "name": "python"
    }
  },
  "cells": [
    {
      "cell_type": "markdown",
      "metadata": {
        "id": "view-in-github",
        "colab_type": "text"
      },
      "source": [
        "<a href=\"https://colab.research.google.com/github/poornimakr2001/python/blob/ds/stack.ipynb\" target=\"_parent\"><img src=\"https://colab.research.google.com/assets/colab-badge.svg\" alt=\"Open In Colab\"/></a>"
      ]
    },
    {
      "cell_type": "code",
      "execution_count": 1,
      "metadata": {
        "colab": {
          "base_uri": "https://localhost:8080/"
        },
        "id": "SFODJ0IMGSJR",
        "outputId": "0b523d67-c542-489b-80b7-ae620f2c89b7"
      },
      "outputs": [
        {
          "output_type": "stream",
          "name": "stdout",
          "text": [
            "Current stack: [1, 2, 3]\n",
            "Top element: 3\n",
            "Stack size: 3\n",
            "Popped element: 3\n",
            "Current stack after pop: [1, 2]\n",
            "Is stack empty? False\n"
          ]
        }
      ],
      "source": [
        "# Define the Stack class\n",
        "class Stack:\n",
        "    def __init__(self):\n",
        "        self.stack = []\n",
        "\n",
        "    def push(self, item):\n",
        "        self.stack.append(item)\n",
        "\n",
        "    def pop(self):\n",
        "        if not self.is_empty():\n",
        "            return self.stack.pop()\n",
        "        else:\n",
        "            return \"Stack is empty\"\n",
        "\n",
        "    def peek(self):\n",
        "        if not self.is_empty():\n",
        "            return self.stack[-1]\n",
        "        else:\n",
        "            return \"Stack is empty\"\n",
        "\n",
        "    def is_empty(self):\n",
        "        return len(self.stack) == 0\n",
        "\n",
        "    def size(self):\n",
        "        return len(self.stack)\n",
        "\n",
        "# Example usage\n",
        "if __name__ == \"__main__\":\n",
        "    stack = Stack()\n",
        "    stack.push(1)\n",
        "    stack.push(2)\n",
        "    stack.push(3)\n",
        "    print(\"Current stack:\", stack.stack)\n",
        "    print(\"Top element:\", stack.peek())\n",
        "    print(\"Stack size:\", stack.size())\n",
        "    print(\"Popped element:\", stack.pop())\n",
        "    print(\"Current stack after pop:\", stack.stack)\n",
        "    print(\"Is stack empty?\", stack.is_empty())\n"
      ]
    }
  ]
}