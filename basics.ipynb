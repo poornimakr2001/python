{
  "nbformat": 4,
  "nbformat_minor": 0,
  "metadata": {
    "colab": {
      "provenance": [],
      "authorship_tag": "ABX9TyO57761EPAiPWpU8FZBmQIb",
      "include_colab_link": true
    },
    "kernelspec": {
      "name": "python3",
      "display_name": "Python 3"
    },
    "language_info": {
      "name": "python"
    }
  },
  "cells": [
    {
      "cell_type": "markdown",
      "metadata": {
        "id": "view-in-github",
        "colab_type": "text"
      },
      "source": [
        "<a href=\"https://colab.research.google.com/github/poornimakr2001/python/blob/ds/basics.ipynb\" target=\"_parent\"><img src=\"https://colab.research.google.com/assets/colab-badge.svg\" alt=\"Open In Colab\"/></a>"
      ]
    },
    {
      "cell_type": "code",
      "execution_count": 1,
      "metadata": {
        "colab": {
          "base_uri": "https://localhost:8080/"
        },
        "id": "XJ3kqwf0jByJ",
        "outputId": "bd350118-8c83-439a-fcea-e5f3ab0fc3e1"
      },
      "outputs": [
        {
          "output_type": "stream",
          "name": "stdout",
          "text": [
            "Enter a number: 5\n",
            "5 is Odd\n"
          ]
        }
      ],
      "source": [
        "num = int(input(\"Enter a number: \"))\n",
        "if (num % 2) == 0:\n",
        "   print(\"{0} is Even\".format(num))\n",
        "else:\n",
        "   print(\"{0} is Odd\".format(num))"
      ]
    },
    {
      "cell_type": "code",
      "source": [
        "num = float(input(\"Enter a number: \"))\n",
        "# Input: 1.2\n",
        "if num > 0:\n",
        "   print(\"Positive number\")\n",
        "elif num == 0:\n",
        "   print(\"Zero\")\n",
        "else:\n",
        "   print(\"Negative number\")\n",
        "\n",
        "#output: Positive number"
      ],
      "metadata": {
        "colab": {
          "base_uri": "https://localhost:8080/"
        },
        "id": "lVDbEy8jjNrO",
        "outputId": "3f8795a4-abcd-4d35-e71c-fbf5971a13ff"
      },
      "execution_count": 2,
      "outputs": [
        {
          "output_type": "stream",
          "name": "stdout",
          "text": [
            "Enter a number: -2\n",
            "Negative number\n"
          ]
        }
      ]
    },
    {
      "cell_type": "code",
      "source": [
        "num = int(input(\"enter a number: \"))\n",
        "# input: 23\n",
        "flag = False\n",
        "if num > 1:\n",
        "    for i in range(2, num):\n",
        "        if (num % i) == 0:\n",
        "            flag = True\n",
        "            break\n",
        "\n",
        "if flag:\n",
        "    print(num, \"is not a prime number\")\n",
        "else:\n",
        "    print(num, \"is a prime number\")\n",
        "# 23 is a prime number"
      ],
      "metadata": {
        "colab": {
          "base_uri": "https://localhost:8080/"
        },
        "id": "M73eUmmpjXuv",
        "outputId": "31495068-151b-4c74-94fe-02b548b7a61f"
      },
      "execution_count": 3,
      "outputs": [
        {
          "output_type": "stream",
          "name": "stdout",
          "text": [
            "enter a number: 2\n",
            "2 is a prime number\n"
          ]
        }
      ]
    },
    {
      "cell_type": "code",
      "source": [
        "num = int(input(\"Enter a number: \"))\n",
        "# Input: 12321\n",
        "temp = num\n",
        "reverse = 0\n",
        "while temp > 0:\n",
        "    remainder = temp % 10\n",
        "    reverse = (reverse * 10) + remainder\n",
        "    temp = temp // 10\n",
        "if num == reverse:\n",
        "  print('Palindrome')\n",
        "else:\n",
        "  print(\"Not Palindrome\")\n",
        "# Output: Palindrome"
      ],
      "metadata": {
        "colab": {
          "base_uri": "https://localhost:8080/"
        },
        "id": "bsu89oRSjeEq",
        "outputId": "cda30e85-5006-447a-b1ba-b5c482510f2f"
      },
      "execution_count": 4,
      "outputs": [
        {
          "output_type": "stream",
          "name": "stdout",
          "text": [
            "Enter a number: 121\n",
            "Palindrome\n"
          ]
        }
      ]
    },
    {
      "cell_type": "code",
      "source": [
        "num = int(input(\"Enter a number: \"))\n",
        "# Input: 407\n",
        "sum = 0\n",
        "temp = num\n",
        "while temp > 0:\n",
        "   digit = temp % 10\n",
        "   sum += digit ** 3\n",
        "   temp //= 10\n",
        "if num == sum:\n",
        "   print(num,\"is an Armstrong number\")\n",
        "else:\n",
        "   print(num,\"is not an Armstrong number\")\n",
        "# Output: 407 is an Armstrong number"
      ],
      "metadata": {
        "colab": {
          "base_uri": "https://localhost:8080/"
        },
        "id": "GpScXI7-jk6F",
        "outputId": "38bdfa5e-0d53-4c3c-93a8-3699b5350421"
      },
      "execution_count": 5,
      "outputs": [
        {
          "output_type": "stream",
          "name": "stdout",
          "text": [
            "Enter a number: 999\n",
            "999 is not an Armstrong number\n"
          ]
        }
      ]
    },
    {
      "cell_type": "code",
      "source": [
        "def check(s1, s2):\n",
        "\n",
        "    if(sorted(s1)== sorted(s2)):\n",
        "        print(\"The strings are anagrams.\")\n",
        "    else:\n",
        "        print(\"The strings aren't anagrams.\")\n",
        "\n",
        "s1 = input(\"Enter string1: \")\n",
        "# input1: \"listen\"\n",
        "s2 = input(\"Enter string2: \")\n",
        "# input2: \"silent\"\n",
        "check(s1, s2)\n",
        "# Output: the strings are anagrams."
      ],
      "metadata": {
        "colab": {
          "base_uri": "https://localhost:8080/"
        },
        "id": "W4uP06K2jwDY",
        "outputId": "d1b46981-8543-4edd-c38b-3832780c3f91"
      },
      "execution_count": 6,
      "outputs": [
        {
          "output_type": "stream",
          "name": "stdout",
          "text": [
            "Enter string1: listen\n",
            "Enter string2: silent\n",
            "The strings are anagrams.\n"
          ]
        }
      ]
    },
    {
      "cell_type": "code",
      "source": [
        "def maximum(a, b, c):\n",
        "\n",
        "    if (a >= b) and (a >= c):\n",
        "        largest = a\n",
        "\n",
        "    elif (b >= a) and (b >= c):\n",
        "        largest = b\n",
        "    else:\n",
        "        largest = c\n",
        "\n",
        "    return largest\n",
        "\n",
        "\n",
        "a = int(input(\"Enter a number: \"))\n",
        "# Input1: 10\n",
        "b = int(input(\"Enter a number: \"))\n",
        "# Input2: 14\n",
        "c = int(input(\"Enter a number: \"))\n",
        "# Input3: 12\n",
        "print(maximum(a, b, c))\n",
        "# Output: 14"
      ],
      "metadata": {
        "colab": {
          "base_uri": "https://localhost:8080/"
        },
        "id": "NzaX9Fw3kEJZ",
        "outputId": "d0fd7c76-a279-4f40-a243-26d3579ebe3c"
      },
      "execution_count": 7,
      "outputs": [
        {
          "output_type": "stream",
          "name": "stdout",
          "text": [
            "Enter a number: 10\n",
            "Enter a number: 14\n",
            "Enter a number: 12\n",
            "14\n"
          ]
        }
      ]
    },
    {
      "cell_type": "code",
      "source": [
        "num = int(input(\"Enter a number: \"))\n",
        "# 7\n",
        "factorial = 1\n",
        "if num < 0:\n",
        "   print(\"Sorry, factorial does not exist for negative numbers\")\n",
        "elif num == 0:\n",
        "   print(\"The factorial of 0 is 1\")\n",
        "else:\n",
        "   for i in range(1,num + 1):\n",
        "       factorial = factorial*i\n",
        "   print(\"The factorial of\",num,\"is\",factorial)\n",
        "   # 5040"
      ],
      "metadata": {
        "colab": {
          "base_uri": "https://localhost:8080/"
        },
        "id": "eG0iIKY0kQHY",
        "outputId": "94031434-ea2e-43d0-ee8b-ce6cb343cde7"
      },
      "execution_count": 8,
      "outputs": [
        {
          "output_type": "stream",
          "name": "stdout",
          "text": [
            "Enter a number: 4\n",
            "The factorial of 4 is 24\n"
          ]
        }
      ]
    }
  ]
}