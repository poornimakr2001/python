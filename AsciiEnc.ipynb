{
  "nbformat": 4,
  "nbformat_minor": 0,
  "metadata": {
    "colab": {
      "provenance": [],
      "authorship_tag": "ABX9TyMBUqdN+zfWBBmUM6V41yRU",
      "include_colab_link": true
    },
    "kernelspec": {
      "name": "python3",
      "display_name": "Python 3"
    },
    "language_info": {
      "name": "python"
    }
  },
  "cells": [
    {
      "cell_type": "markdown",
      "metadata": {
        "id": "view-in-github",
        "colab_type": "text"
      },
      "source": [
        "<a href=\"https://colab.research.google.com/github/poornimakr2001/python/blob/ds/AsciiEnc.ipynb\" target=\"_parent\"><img src=\"https://colab.research.google.com/assets/colab-badge.svg\" alt=\"Open In Colab\"/></a>"
      ]
    },
    {
      "cell_type": "code",
      "execution_count": 1,
      "metadata": {
        "colab": {
          "base_uri": "https://localhost:8080/"
        },
        "id": "g6AZ5KynmvCU",
        "outputId": "32a5a71b-81d6-49f3-ce0f-d472d9246d68"
      },
      "outputs": [
        {
          "output_type": "stream",
          "name": "stdout",
          "text": [
            "Encrypted ASCII values: [120, 71, 80, 74, 97, 116, 43, 101, 100, 101]\n",
            "Decrypted string: xGPJat+ede\n"
          ]
        }
      ],
      "source": [
        "# Function to encrypt a string into ASCII values\n",
        "def ascii_encrypt(input_string):\n",
        "    encrypted_list = [ord(char) for char in input_string]\n",
        "    return encrypted_list\n",
        "\n",
        "# Function to decrypt ASCII values back to a string\n",
        "def ascii_decrypt(ascii_list):\n",
        "    decrypted_string = ''.join([chr(num) for num in ascii_list])\n",
        "    return decrypted_string\n",
        "\n",
        "# Input string to encrypt\n",
        "input_string = \"xGPJat+ede\"\n",
        "\n",
        "# Encrypt the input string\n",
        "encrypted = ascii_encrypt(input_string)\n",
        "print(\"Encrypted ASCII values:\", encrypted)\n",
        "\n",
        "# Decrypt back to the original string\n",
        "decrypted = ascii_decrypt(encrypted)\n",
        "print(\"Decrypted string:\", decrypted)\n"
      ]
    }
  ]
}