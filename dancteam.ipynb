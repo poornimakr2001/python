{
  "nbformat": 4,
  "nbformat_minor": 0,
  "metadata": {
    "colab": {
      "provenance": [],
      "authorship_tag": "ABX9TyMTG1yQx23gAbNpa/szkauw",
      "include_colab_link": true
    },
    "kernelspec": {
      "name": "python3",
      "display_name": "Python 3"
    },
    "language_info": {
      "name": "python"
    }
  },
  "cells": [
    {
      "cell_type": "markdown",
      "metadata": {
        "id": "view-in-github",
        "colab_type": "text"
      },
      "source": [
        "<a href=\"https://colab.research.google.com/github/poornimakr2001/python/blob/ds/dancteam.ipynb\" target=\"_parent\"><img src=\"https://colab.research.google.com/assets/colab-badge.svg\" alt=\"Open In Colab\"/></a>"
      ]
    },
    {
      "cell_type": "code",
      "execution_count": 1,
      "metadata": {
        "colab": {
          "base_uri": "https://localhost:8080/"
        },
        "id": "9Nyzh6S5VEIA",
        "outputId": "dd6b4189-842d-4888-b52e-8d80c1e89566"
      },
      "outputs": [
        {
          "output_type": "stream",
          "name": "stdout",
          "text": [
            "Group 1: ['Noah', 'Ava', 'Lily', 'Grace', 'Lucas']\n",
            "Group 2: ['Liam', 'Zoe', 'Jack', 'Emma', 'Aiden']\n",
            "Group 3: ['Leo', 'Chloe', 'James', 'Olivia', 'Oliver']\n",
            "Group 4: ['Mia', 'Sophia', 'Isabella', 'Ethan', 'Mason']\n"
          ]
        }
      ],
      "source": [
        "import random\n",
        "\n",
        "def divide_team(total_members, group_size, names):\n",
        "    if total_members % group_size == 0:\n",
        "        groups = total_members // group_size\n",
        "        random.shuffle(names)  # Shuffle names to assign randomly\n",
        "        for i in range(groups):\n",
        "            group = names[i * group_size: (i + 1) * group_size]\n",
        "            print(f\"Group {i + 1}: {group}\")\n",
        "    else:\n",
        "        print(\"The team cannot be divided equally.\")\n",
        "\n",
        "# Example usage\n",
        "names = ['Emma', 'Olivia', 'Sophia', 'Mia', 'Ava', 'Chloe', 'Isabella', 'Grace', 'Lily', 'Zoe',\n",
        "         'Liam', 'Noah', 'Ethan', 'Aiden', 'Mason', 'Lucas', 'James', 'Leo', 'Jack', 'Oliver']\n",
        "total_members = len(names)  # Total number of team members\n",
        "group_size = 5              # Number of members per group\n",
        "\n",
        "divide_team(total_members, group_size, names)\n"
      ]
    }
  ]
}