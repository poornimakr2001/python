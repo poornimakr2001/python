{
  "nbformat": 4,
  "nbformat_minor": 0,
  "metadata": {
    "colab": {
      "provenance": [],
      "authorship_tag": "ABX9TyO54Y7Sg8YYTxWixH7KK6yN",
      "include_colab_link": true
    },
    "kernelspec": {
      "name": "python3",
      "display_name": "Python 3"
    },
    "language_info": {
      "name": "python"
    }
  },
  "cells": [
    {
      "cell_type": "markdown",
      "metadata": {
        "id": "view-in-github",
        "colab_type": "text"
      },
      "source": [
        "<a href=\"https://colab.research.google.com/github/poornimakr2001/python/blob/ds/trackorder.ipynb\" target=\"_parent\"><img src=\"https://colab.research.google.com/assets/colab-badge.svg\" alt=\"Open In Colab\"/></a>"
      ]
    },
    {
      "cell_type": "code",
      "execution_count": 2,
      "metadata": {
        "colab": {
          "base_uri": "https://localhost:8080/"
        },
        "id": "hr0Hg2fxXaV_",
        "outputId": "626bf534-8ae8-4aa6-9644-ca916a81bee1"
      },
      "outputs": [
        {
          "output_type": "stream",
          "name": "stdout",
          "text": [
            "Enter your Order ID: ORD123\n",
            "Order ID: ORD123, Status: Shipped\n"
          ]
        }
      ],
      "source": [
        "# Sample Data: Order tracking info\n",
        "order_data = {\n",
        "    'ORD123': 'Shipped',\n",
        "    'ORD124': 'In Transit',\n",
        "    'ORD125': 'Out for Delivery',\n",
        "    'ORD126': 'Delivered',\n",
        "}\n",
        "\n",
        "# Function to track order status\n",
        "def track_order(order_id):\n",
        "    # Check if the order ID exists\n",
        "    if order_id in order_data:\n",
        "        return f\"Order ID: {order_id}, Status: {order_data[order_id]}\"\n",
        "    else:\n",
        "        return \"Invalid Order ID. Please check again.\"\n",
        "\n",
        "# Input from user\n",
        "user_order_id = input(\"Enter your Order ID: \")\n",
        "# Track the order\n",
        "status = track_order(user_order_id)\n",
        "# Print the order status\n",
        "print(status)\n"
      ]
    }
  ]
}