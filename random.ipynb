{
  "nbformat": 4,
  "nbformat_minor": 0,
  "metadata": {
    "colab": {
      "provenance": [],
      "authorship_tag": "ABX9TyNlfc8EC4kquIJfwSUQxMnU",
      "include_colab_link": true
    },
    "kernelspec": {
      "name": "python3",
      "display_name": "Python 3"
    },
    "language_info": {
      "name": "python"
    }
  },
  "cells": [
    {
      "cell_type": "markdown",
      "metadata": {
        "id": "view-in-github",
        "colab_type": "text"
      },
      "source": [
        "<a href=\"https://colab.research.google.com/github/poornimakr2001/python/blob/ds/random.ipynb\" target=\"_parent\"><img src=\"https://colab.research.google.com/assets/colab-badge.svg\" alt=\"Open In Colab\"/></a>"
      ]
    },
    {
      "cell_type": "code",
      "execution_count": 1,
      "metadata": {
        "colab": {
          "base_uri": "https://localhost:8080/"
        },
        "id": "ZeHgsAuaOf_5",
        "outputId": "260255ac-43ad-44d6-a1aa-32e5b3901e8f"
      },
      "outputs": [
        {
          "output_type": "stream",
          "name": "stdout",
          "text": [
            "Random integer: 8\n",
            "Random float: 0.11504173183490973\n",
            "Random float between 1 and 10: 6.9339327435922975\n",
            "Random choice: banana\n",
            "Shuffled list: [1, 3, 4, 2, 5]\n",
            "Numpy random integer: 5\n",
            "Numpy random float: 0.9554634610234791\n",
            "Numpy random array: [0.79470964 0.98217414 0.66366615 0.5441165  0.33757792]\n",
            "Numpy random integer array: [10 10  2  1 10]\n",
            "Numpy random matrix:\n",
            "[[0.91688191 0.32117207 0.17398948]\n",
            " [0.72061948 0.44756141 0.7850498 ]]\n"
          ]
        }
      ],
      "source": [
        "import random\n",
        "import numpy as np\n",
        "\n",
        "# Using random module\n",
        "\n",
        "# Generate a random integer between 1 and 10\n",
        "random_integer = random.randint(1, 10)\n",
        "print(f\"Random integer: {random_integer}\")\n",
        "\n",
        "# Generate a random floating-point number between 0 and 1\n",
        "random_float = random.random()\n",
        "print(f\"Random float: {random_float}\")\n",
        "\n",
        "# Generate a random floating-point number between 1 and 10\n",
        "random_uniform = random.uniform(1, 10)\n",
        "print(f\"Random float between 1 and 10: {random_uniform}\")\n",
        "\n",
        "# Generate a random choice from a list\n",
        "random_choice = random.choice(['apple', 'banana', 'cherry'])\n",
        "print(f\"Random choice: {random_choice}\")\n",
        "\n",
        "# Shuffle a list\n",
        "sample_list = [1, 2, 3, 4, 5]\n",
        "random.shuffle(sample_list)\n",
        "print(f\"Shuffled list: {sample_list}\")\n",
        "\n",
        "# Using numpy\n",
        "\n",
        "# Generate a random integer between 1 and 10\n",
        "np_random_integer = np.random.randint(1, 11)\n",
        "print(f\"Numpy random integer: {np_random_integer}\")\n",
        "\n",
        "# Generate a random floating-point number between 0 and 1\n",
        "np_random_float = np.random.rand()\n",
        "print(f\"Numpy random float: {np_random_float}\")\n",
        "\n",
        "# Generate an array of random floating-point numbers between 0 and 1\n",
        "np_random_array = np.random.rand(5)\n",
        "print(f\"Numpy random array: {np_random_array}\")\n",
        "\n",
        "# Generate an array of random integers between 1 and 10\n",
        "np_random_int_array = np.random.randint(1, 11, size=5)\n",
        "print(f\"Numpy random integer array: {np_random_int_array}\")\n",
        "\n",
        "# Generate a 2x3 array of random floating-point numbers between 0 and 1\n",
        "np_random_matrix = np.random.rand(2, 3)\n",
        "print(f\"Numpy random matrix:\\n{np_random_matrix}\")\n"
      ]
    }
  ]
}