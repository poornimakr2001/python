{
  "nbformat": 4,
  "nbformat_minor": 0,
  "metadata": {
    "colab": {
      "provenance": [],
      "authorship_tag": "ABX9TyMWNF0M6XsuY0QWHTkaFeWi",
      "include_colab_link": true
    },
    "kernelspec": {
      "name": "python3",
      "display_name": "Python 3"
    },
    "language_info": {
      "name": "python"
    }
  },
  "cells": [
    {
      "cell_type": "markdown",
      "metadata": {
        "id": "view-in-github",
        "colab_type": "text"
      },
      "source": [
        "<a href=\"https://colab.research.google.com/github/poornimakr2001/python/blob/ds/linkedstack.ipynb\" target=\"_parent\"><img src=\"https://colab.research.google.com/assets/colab-badge.svg\" alt=\"Open In Colab\"/></a>"
      ]
    },
    {
      "cell_type": "code",
      "execution_count": 1,
      "metadata": {
        "colab": {
          "base_uri": "https://localhost:8080/"
        },
        "id": "WQ846hvIg1h6",
        "outputId": "3a696062-5634-4e93-86be-674b037ed8b1"
      },
      "outputs": [
        {
          "output_type": "stream",
          "name": "stdout",
          "text": [
            "Stack after pushes: 30 -> 20 -> 10\n",
            "Peek: 30\n",
            "Popped: 30\n",
            "Popped: 20\n",
            "Stack after pops: 10\n",
            "Is stack empty? False\n",
            "Size of stack: 1\n"
          ]
        }
      ],
      "source": [
        "class Node:\n",
        "    def __init__(self, data):\n",
        "        self.data = data\n",
        "        self.next = None\n",
        "\n",
        "class LinkedStack:\n",
        "    def __init__(self):\n",
        "        self.top = None\n",
        "        self.size = 0\n",
        "\n",
        "    def is_empty(self):\n",
        "        return self.top is None\n",
        "\n",
        "    def push(self, data):\n",
        "        new_node = Node(data)\n",
        "        new_node.next = self.top\n",
        "        self.top = new_node\n",
        "        self.size += 1\n",
        "\n",
        "    def pop(self):\n",
        "        if self.is_empty():\n",
        "            raise IndexError(\"Pop from an empty stack\")\n",
        "        popped_node = self.top\n",
        "        self.top = self.top.next\n",
        "        self.size -= 1\n",
        "        return popped_node.data\n",
        "\n",
        "    def peek(self):\n",
        "        if self.is_empty():\n",
        "            raise IndexError(\"Peek from an empty stack\")\n",
        "        return self.top.data\n",
        "\n",
        "    def get_size(self):\n",
        "        return self.size\n",
        "\n",
        "    def __str__(self):\n",
        "        current = self.top\n",
        "        elements = []\n",
        "        while current:\n",
        "            elements.append(current.data)\n",
        "            current = current.next\n",
        "        return \" -> \".join(map(str, elements))\n",
        "\n",
        "# Create a new stack\n",
        "stack = LinkedStack()\n",
        "\n",
        "# Push elements onto the stack\n",
        "stack.push(10)\n",
        "stack.push(20)\n",
        "stack.push(30)\n",
        "\n",
        "# Display the stack\n",
        "print(\"Stack after pushes:\", stack)\n",
        "\n",
        "# Peek at the top element\n",
        "print(\"Peek:\", stack.peek())\n",
        "\n",
        "# Pop elements from the stack\n",
        "print(\"Popped:\", stack.pop())\n",
        "print(\"Popped:\", stack.pop())\n",
        "\n",
        "# Display the stack\n",
        "print(\"Stack after pops:\", stack)\n",
        "\n",
        "# Check if the stack is empty\n",
        "print(\"Is stack empty?\", stack.is_empty())\n",
        "\n",
        "# Get the size of the stack\n",
        "print(\"Size of stack:\", stack.get_size())\n"
      ]
    }
  ]
}