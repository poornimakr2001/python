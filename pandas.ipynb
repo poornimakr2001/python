{
  "nbformat": 4,
  "nbformat_minor": 0,
  "metadata": {
    "colab": {
      "provenance": [],
      "authorship_tag": "ABX9TyNf7G2OWuCngi/bZg7P0OV3",
      "include_colab_link": true
    },
    "kernelspec": {
      "name": "python3",
      "display_name": "Python 3"
    },
    "language_info": {
      "name": "python"
    }
  },
  "cells": [
    {
      "cell_type": "markdown",
      "metadata": {
        "id": "view-in-github",
        "colab_type": "text"
      },
      "source": [
        "<a href=\"https://colab.research.google.com/github/poornimakr2001/python/blob/ds/pandas.ipynb\" target=\"_parent\"><img src=\"https://colab.research.google.com/assets/colab-badge.svg\" alt=\"Open In Colab\"/></a>"
      ]
    },
    {
      "cell_type": "code",
      "execution_count": 1,
      "metadata": {
        "colab": {
          "base_uri": "https://localhost:8080/"
        },
        "id": "J-Z0E8hqoqv-",
        "outputId": "d926c747-30db-4b8b-d17f-bbfd66c56779"
      },
      "outputs": [
        {
          "output_type": "stream",
          "name": "stdout",
          "text": [
            "Addition of two Series:\n",
            "0    11\n",
            "1    22\n",
            "2    33\n",
            "3    44\n",
            "4    55\n",
            "dtype: int64\n",
            "\n",
            "Subtraction of two Series:\n",
            "0    -9\n",
            "1   -18\n",
            "2   -27\n",
            "3   -36\n",
            "4   -45\n",
            "dtype: int64\n",
            "\n",
            "Multiplication of two Series:\n",
            "0     10\n",
            "1     40\n",
            "2     90\n",
            "3    160\n",
            "4    250\n",
            "dtype: int64\n",
            "\n",
            "Division of two Series:\n",
            "0    0.1\n",
            "1    0.1\n",
            "2    0.1\n",
            "3    0.1\n",
            "4    0.1\n",
            "dtype: float64\n"
          ]
        }
      ],
      "source": [
        "import pandas as pd\n",
        "\n",
        "# Create two Pandas Series\n",
        "series1 = pd.Series([1, 2, 3, 4, 5])\n",
        "series2 = pd.Series([10, 20, 30, 40, 50])\n",
        "\n",
        "# Addition\n",
        "addition = series1 + series2\n",
        "print(\"Addition of two Series:\")\n",
        "print(addition)\n",
        "\n",
        "# Subtraction\n",
        "subtraction = series1 - series2\n",
        "print(\"\\nSubtraction of two Series:\")\n",
        "print(subtraction)\n",
        "\n",
        "# Multiplication\n",
        "multiplication = series1 * series2\n",
        "print(\"\\nMultiplication of two Series:\")\n",
        "print(multiplication)\n",
        "\n",
        "# Division\n",
        "division = series1 / series2\n",
        "print(\"\\nDivision of two Series:\")\n",
        "print(division)\n"
      ]
    }
  ]
}