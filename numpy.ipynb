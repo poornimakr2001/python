{
  "nbformat": 4,
  "nbformat_minor": 0,
  "metadata": {
    "colab": {
      "provenance": [],
      "authorship_tag": "ABX9TyPkqC3dJmF8Wv/dSItY6Jnf",
      "include_colab_link": true
    },
    "kernelspec": {
      "name": "python3",
      "display_name": "Python 3"
    },
    "language_info": {
      "name": "python"
    }
  },
  "cells": [
    {
      "cell_type": "markdown",
      "metadata": {
        "id": "view-in-github",
        "colab_type": "text"
      },
      "source": [
        "<a href=\"https://colab.research.google.com/github/poornimakr2001/python/blob/ds/numpy.ipynb\" target=\"_parent\"><img src=\"https://colab.research.google.com/assets/colab-badge.svg\" alt=\"Open In Colab\"/></a>"
      ]
    },
    {
      "cell_type": "code",
      "execution_count": null,
      "metadata": {
        "id": "yG_3VVqqU8-F"
      },
      "outputs": [],
      "source": []
    },
    {
      "cell_type": "code",
      "source": [
        "from google.colab import drive\n",
        "drive.mount('/content/drive')"
      ],
      "metadata": {
        "colab": {
          "base_uri": "https://localhost:8080/"
        },
        "id": "dp4UbrTMXAIw",
        "outputId": "3d3e9642-0dec-4e35-f25e-c27b58db79ab"
      },
      "execution_count": null,
      "outputs": [
        {
          "output_type": "stream",
          "name": "stdout",
          "text": [
            "Mounted at /content/drive\n"
          ]
        }
      ]
    },
    {
      "cell_type": "code",
      "source": [
        "# prompt: small tutorial on numpy\n",
        "\n",
        "import numpy as np\n",
        "\n",
        "# Create a NumPy array\n",
        "arr = np.array([1, 2, 3, 4, 5])\n",
        "print(arr)\n",
        "\n",
        "# Get the shape of the array\n",
        "print(arr.shape)\n",
        "\n",
        "# Reshape the array\n",
        "arr2 = arr.reshape(1, 5)\n",
        "print(arr2)\n",
        "print(arr2.shape)\n",
        "\n",
        "# Create an array of zeros\n",
        "zeros = np.zeros((2, 3))\n",
        "print(zeros)\n",
        "\n",
        "# Create an array of ones\n",
        "ones = np.ones((3, 2))\n",
        "print(ones)\n",
        "\n",
        "# Create an identity matrix\n",
        "identity = np.eye(4)\n",
        "print(identity)\n",
        "\n",
        "# Perform arithmetic operations on arrays\n",
        "arr3 = np.array([6, 7, 8, 9, 10])\n",
        "print(arr + arr3)\n",
        "print(arr - arr3)\n",
        "print(arr * arr3)\n",
        "print(arr / arr3)\n",
        "\n",
        "# Calculate the dot product of two arrays\n",
        "dot_product = np.dot(arr, arr3)\n",
        "print(dot_product)\n",
        "\n",
        "# Access elements of an array\n",
        "print(arr[0])\n",
        "print(arr[2:4])\n",
        "\n",
        "# Slice and dice arrays\n",
        "arr4 = np.array([[1, 2, 3], [4, 5, 6]])\n",
        "print(arr4[0, :])\n",
        "print(arr4[:, 1])\n",
        "\n",
        "# Apply mathematical functions to arrays\n",
        "print(np.sin(arr))\n",
        "print(np.cos(arr))\n",
        "print(np.exp(arr))\n",
        "print(np.log(arr))\n"
      ],
      "metadata": {
        "id": "5XjpPMzHYu6R"
      },
      "execution_count": null,
      "outputs": []
    },
    {
      "cell_type": "code",
      "source": [
        "import numpy as np\n",
        "x=np.array([1,2,3,4])\n",
        "y=np.array([[1,2,3],[4,5,6]])\n",
        "print(x)\n",
        "print(y)"
      ],
      "metadata": {
        "colab": {
          "base_uri": "https://localhost:8080/"
        },
        "id": "iRAQNQtGY4yg",
        "outputId": "2e55b891-8600-4f51-e305-96f30ea2a075"
      },
      "execution_count": null,
      "outputs": [
        {
          "output_type": "stream",
          "name": "stdout",
          "text": [
            "[1 2 3 4]\n",
            "[[1 2 3]\n",
            " [4 5 6]]\n"
          ]
        }
      ]
    },
    {
      "cell_type": "code",
      "source": [
        "import numpy as np\n",
        "x=np.array([1,2,3,4])\n",
        "y=np.array([[1,2,3],[4,5,6]])\n",
        "print(x.shape)\n",
        "print(y.shape)\n"
      ],
      "metadata": {
        "colab": {
          "base_uri": "https://localhost:8080/"
        },
        "id": "GgmQEMdiaibq",
        "outputId": "43fda90c-f2b3-4764-e000-8728cb4bfdca"
      },
      "execution_count": null,
      "outputs": [
        {
          "output_type": "stream",
          "name": "stdout",
          "text": [
            "(4,)\n",
            "(2, 3)\n"
          ]
        }
      ]
    },
    {
      "cell_type": "code",
      "source": [],
      "metadata": {
        "id": "Coq-CefXa0b_"
      },
      "execution_count": null,
      "outputs": []
    },
    {
      "cell_type": "code",
      "source": [
        "x=np.array(1) #zero dimension\n",
        "print(x)"
      ],
      "metadata": {
        "colab": {
          "base_uri": "https://localhost:8080/"
        },
        "id": "_Ixe1-f4Z28_",
        "outputId": "de4cab86-e544-4a9f-bf44-cbd3a4cdc715"
      },
      "execution_count": null,
      "outputs": [
        {
          "output_type": "stream",
          "name": "stdout",
          "text": [
            "1\n"
          ]
        }
      ]
    },
    {
      "cell_type": "code",
      "source": [
        "# prompt: ndim in numpy\n",
        "\n",
        "from google.colab import drive\n",
        "import numpy as np\n",
        "drive.mount('/content/drive')\n",
        "\n",
        "\n",
        "# Create a NumPy array\n",
        "arr = np.array([1, 2, 3, 4, 5])\n",
        "print(arr)\n",
        "\n",
        "# Get the shape of the array\n",
        "print(arr.shape)\n",
        "\n",
        "# Reshape the array\n",
        "arr2 = arr.reshape(1, 5)\n",
        "print(arr2)\n",
        "print(arr2.shape)\n",
        "\n",
        "# Create an array of zeros\n",
        "zeros = np.zeros((2, 3))\n",
        "print(zeros)\n",
        "\n",
        "# Create an array of ones\n",
        "ones = np.ones((3, 2))\n",
        "print(ones)\n",
        "\n",
        "# Create an identity matrix\n",
        "identity = np.eye(4)\n",
        "print(identity)\n",
        "\n",
        "# Perform arithmetic operations on arrays\n",
        "arr3 = np.array([6, 7, 8, 9, 10])\n",
        "print(arr + arr3)\n",
        "print(arr - arr3)\n",
        "print(arr * arr3)\n",
        "print(arr / arr3)\n",
        "\n",
        "# Calculate the dot product of two arrays\n",
        "dot_product = np.dot(arr, arr3)\n",
        "print(dot_product)\n",
        "\n",
        "# Access elements of an array\n",
        "print(arr[0])\n",
        "print(arr[2:4])\n",
        "\n",
        "# Slice and dice arrays\n",
        "arr4 = np.array([[1, 2, 3], [4, 5, 6]])\n",
        "print(arr4[0, :])\n",
        "print(arr4[:, 1])\n",
        "\n",
        "# Apply mathematical functions to arrays\n",
        "print(np.sin(arr))\n",
        "print(np.cos(arr))\n",
        "print(np.exp(arr))\n",
        "print(np.log(arr))\n",
        "\n",
        "x=np.array([1,2,3,4])\n",
        "y=np.array([[1,2,3],[4,5,6]])\n",
        "print(x)\n",
        "print(y)\n",
        "x=np.array(1) #zero dimension\n",
        "print(x)\n",
        "\n",
        "# Get the number of dimensions of an array\n",
        "print(arr.ndim)\n",
        "print(arr2.ndim)\n",
        "print(arr4.ndim)\n",
        "print(x.ndim)\n"
      ],
      "metadata": {
        "id": "69CeK6yuaMt0"
      },
      "execution_count": null,
      "outputs": []
    },
    {
      "cell_type": "code",
      "source": [
        "\n",
        "y=np.array([[1,2,3],[4,5,6],[7,8,9]])\n",
        "\n",
        "print(y.shape)"
      ],
      "metadata": {
        "colab": {
          "base_uri": "https://localhost:8080/"
        },
        "id": "NjMibbyza2TN",
        "outputId": "63d51418-d5fa-4a95-c369-603d5d41e2d9"
      },
      "execution_count": null,
      "outputs": [
        {
          "output_type": "stream",
          "name": "stdout",
          "text": [
            "(3, 3)\n"
          ]
        }
      ]
    },
    {
      "cell_type": "code",
      "source": [
        "x = np.array([[1,2],[3,4],[5,6],[7,8]])\n",
        "print(x.shape)\n",
        "print(x.ndim)\n",
        "f=x.reshape(2,4)\n",
        "print(f.ndim)\n",
        "print(f)"
      ],
      "metadata": {
        "colab": {
          "base_uri": "https://localhost:8080/"
        },
        "id": "iJsC9w8-b1Mj",
        "outputId": "9e8481e4-ce34-48f8-9a10-07050701ffc5"
      },
      "execution_count": null,
      "outputs": [
        {
          "output_type": "stream",
          "name": "stdout",
          "text": [
            "(4, 2)\n",
            "2\n",
            "2\n",
            "[[1 2 3 4]\n",
            " [5 6 7 8]]\n"
          ]
        }
      ]
    },
    {
      "cell_type": "code",
      "source": [],
      "metadata": {
        "id": "dMccJIPcf9GR"
      },
      "execution_count": null,
      "outputs": []
    },
    {
      "cell_type": "code",
      "source": [
        "print(y.ndim)"
      ],
      "metadata": {
        "colab": {
          "base_uri": "https://localhost:8080/"
        },
        "id": "I47UZdlSbiCc",
        "outputId": "98d1fe97-1762-4525-b9e1-e47d393d5676"
      },
      "execution_count": null,
      "outputs": [
        {
          "output_type": "stream",
          "name": "stdout",
          "text": [
            "2\n"
          ]
        }
      ]
    },
    {
      "cell_type": "code",
      "source": [
        "x=np.array(1)\n",
        "print(x.shape)"
      ],
      "metadata": {
        "colab": {
          "base_uri": "https://localhost:8080/"
        },
        "id": "-L_1w2wxc1p5",
        "outputId": "0f4aa4b7-3e70-40ef-e856-1aee1d6a2f56"
      },
      "execution_count": null,
      "outputs": [
        {
          "output_type": "stream",
          "name": "stdout",
          "text": [
            "()\n"
          ]
        }
      ]
    },
    {
      "cell_type": "code",
      "source": [
        "arr1=np.array([[[2,4],[6,8]],[[10,12],[14,18]],[[20,24],[28,32]]])\n",
        "print(arr1.shape)"
      ],
      "metadata": {
        "colab": {
          "base_uri": "https://localhost:8080/"
        },
        "id": "fpdDkUdqf_kx",
        "outputId": "ff549911-6fbe-407e-f818-54c527d14125"
      },
      "execution_count": null,
      "outputs": [
        {
          "output_type": "stream",
          "name": "stdout",
          "text": [
            "(3, 2, 2)\n"
          ]
        }
      ]
    },
    {
      "cell_type": "code",
      "source": [
        "import pandas as pd\n",
        "\n",
        "import numpy as np"
      ],
      "metadata": {
        "id": "4S9NzYU9jaBN"
      },
      "execution_count": null,
      "outputs": []
    },
    {
      "cell_type": "code",
      "source": [
        "data={\n",
        "    'name':['alice','bob','charlie'],\n",
        "    'age':[25,30,35],\n",
        "    'city':['new york','san francisco','los angeles']\n",
        "}\n",
        "df=pd.DataFrame(data)\n",
        "print(df)\n"
      ],
      "metadata": {
        "colab": {
          "base_uri": "https://localhost:8080/"
        },
        "id": "NY6N33tWdrTW",
        "outputId": "ecc10e8c-a476-4114-acba-75c970ae8766"
      },
      "execution_count": null,
      "outputs": [
        {
          "output_type": "stream",
          "name": "stdout",
          "text": [
            "      name  age           city\n",
            "0    alice   25       new york\n",
            "1      bob   30  san francisco\n",
            "2  charlie   35    los angeles\n"
          ]
        }
      ]
    },
    {
      "cell_type": "code",
      "source": [
        "data=[['alice',25,'new york'],['bob',30,'san francisco'],['charlie',35,'los angeles']]\n",
        "\n",
        "df=pd.DataFrame(data,columns=['name','age','city'])\n",
        "print(df)"
      ],
      "metadata": {
        "colab": {
          "base_uri": "https://localhost:8080/"
        },
        "id": "BMzKtc58ftF_",
        "outputId": "b174d90a-eb6e-489e-9b2d-472ed94c4c45"
      },
      "execution_count": null,
      "outputs": [
        {
          "output_type": "stream",
          "name": "stdout",
          "text": [
            "      name  age           city\n",
            "0    alice   25       new york\n",
            "1      bob   30  san francisco\n",
            "2  charlie   35    los angeles\n"
          ]
        }
      ]
    },
    {
      "cell_type": "code",
      "source": [
        "df=pd.read_csv('/content/data (1).csv')\n",
        "print(df)"
      ],
      "metadata": {
        "colab": {
          "base_uri": "https://localhost:8080/"
        },
        "id": "b7WoNKqChE7q",
        "outputId": "591ee976-4da6-4ef1-ee5d-260b07716530"
      },
      "execution_count": null,
      "outputs": [
        {
          "output_type": "stream",
          "name": "stdout",
          "text": [
            "     Duration  Pulse  Maxpulse  Calories\n",
            "0          60    110       130     409.1\n",
            "1          60    117       145     479.0\n",
            "2          60    103       135     340.0\n",
            "3          45    109       175     282.4\n",
            "4          45    117       148     406.0\n",
            "..        ...    ...       ...       ...\n",
            "164        60    105       140     290.8\n",
            "165        60    110       145     300.0\n",
            "166        60    115       145     310.2\n",
            "167        75    120       150     320.4\n",
            "168        75    125       150     330.4\n",
            "\n",
            "[169 rows x 4 columns]\n"
          ]
        }
      ]
    },
    {
      "cell_type": "code",
      "source": [
        "print(df.head(11))\n",
        "print(df.tail())"
      ],
      "metadata": {
        "colab": {
          "base_uri": "https://localhost:8080/"
        },
        "id": "Xe1YExmZhyLi",
        "outputId": "aafe050e-2b4a-4e39-977d-de478765d3b2"
      },
      "execution_count": null,
      "outputs": [
        {
          "output_type": "stream",
          "name": "stdout",
          "text": [
            "    Duration  Pulse  Maxpulse  Calories\n",
            "0         60    110       130     409.1\n",
            "1         60    117       145     479.0\n",
            "2         60    103       135     340.0\n",
            "3         45    109       175     282.4\n",
            "4         45    117       148     406.0\n",
            "5         60    102       127     300.0\n",
            "6         60    110       136     374.0\n",
            "7         45    104       134     253.3\n",
            "8         30    109       133     195.1\n",
            "9         60     98       124     269.0\n",
            "10        60    103       147     329.3\n",
            "     Duration  Pulse  Maxpulse  Calories\n",
            "164        60    105       140     290.8\n",
            "165        60    110       145     300.0\n",
            "166        60    115       145     310.2\n",
            "167        75    120       150     320.4\n",
            "168        75    125       150     330.4\n"
          ]
        }
      ]
    },
    {
      "cell_type": "code",
      "source": [],
      "metadata": {
        "id": "DXJAMxzLZctd"
      },
      "execution_count": null,
      "outputs": []
    },
    {
      "cell_type": "code",
      "source": [],
      "metadata": {
        "id": "WpxY6DyZZdmV"
      },
      "execution_count": null,
      "outputs": []
    },
    {
      "cell_type": "code",
      "source": [
        "print(df.shape)"
      ],
      "metadata": {
        "colab": {
          "base_uri": "https://localhost:8080/"
        },
        "id": "2DEV1cWpipaw",
        "outputId": "5fdca0c2-8db4-4f98-8e00-a2eac3e732cb"
      },
      "execution_count": null,
      "outputs": [
        {
          "output_type": "stream",
          "name": "stdout",
          "text": [
            "(169, 4)\n"
          ]
        }
      ]
    },
    {
      "cell_type": "code",
      "source": [
        "print(df.info()) #must called\n",
        "print(df.columns)\n"
      ],
      "metadata": {
        "colab": {
          "base_uri": "https://localhost:8080/"
        },
        "id": "UwLVVwxBjDeW",
        "outputId": "9d7726c6-9eae-477f-b03b-581f5c86c912"
      },
      "execution_count": null,
      "outputs": [
        {
          "output_type": "stream",
          "name": "stdout",
          "text": [
            "<class 'pandas.core.frame.DataFrame'>\n",
            "RangeIndex: 169 entries, 0 to 168\n",
            "Data columns (total 4 columns):\n",
            " #   Column    Non-Null Count  Dtype  \n",
            "---  ------    --------------  -----  \n",
            " 0   Duration  169 non-null    int64  \n",
            " 1   Pulse     169 non-null    int64  \n",
            " 2   Maxpulse  169 non-null    int64  \n",
            " 3   Calories  164 non-null    float64\n",
            "dtypes: float64(1), int64(3)\n",
            "memory usage: 5.4 KB\n",
            "None\n",
            "Index(['Duration', 'Pulse', 'Maxpulse', 'Calories'], dtype='object')\n"
          ]
        }
      ]
    },
    {
      "cell_type": "code",
      "source": [
        "print(df.describe())"
      ],
      "metadata": {
        "colab": {
          "base_uri": "https://localhost:8080/"
        },
        "id": "kbx8c53Pj5yF",
        "outputId": "27bf08bf-1af8-46a3-d355-5b41ac5e0a77"
      },
      "execution_count": null,
      "outputs": [
        {
          "output_type": "stream",
          "name": "stdout",
          "text": [
            "         Duration       Pulse    Maxpulse     Calories\n",
            "count  169.000000  169.000000  169.000000   164.000000\n",
            "mean    63.846154  107.461538  134.047337   375.790244\n",
            "std     42.299949   14.510259   16.450434   266.379919\n",
            "min     15.000000   80.000000  100.000000    50.300000\n",
            "25%     45.000000  100.000000  124.000000   250.925000\n",
            "50%     60.000000  105.000000  131.000000   318.600000\n",
            "75%     60.000000  111.000000  141.000000   387.600000\n",
            "max    300.000000  159.000000  184.000000  1860.400000\n"
          ]
        }
      ]
    },
    {
      "cell_type": "code",
      "source": [
        "from os import name\n",
        "data=[['alice',25,'new york'],['bob',30,'san francisco'],['charlie',35,'los angeles']]\n",
        "\n",
        "df1=pd.DataFrame(data,columns=['name','age','city'])\n",
        "print(df1['name'])"
      ],
      "metadata": {
        "colab": {
          "base_uri": "https://localhost:8080/"
        },
        "id": "15Cd393nk43S",
        "outputId": "2338adb3-6582-4a06-e759-149552e69605"
      },
      "execution_count": null,
      "outputs": [
        {
          "output_type": "stream",
          "name": "stdout",
          "text": [
            "0      alice\n",
            "1        bob\n",
            "2    charlie\n",
            "Name: name, dtype: object\n"
          ]
        }
      ]
    },
    {
      "cell_type": "code",
      "source": [
        "print(df1.loc[0])"
      ],
      "metadata": {
        "colab": {
          "base_uri": "https://localhost:8080/"
        },
        "id": "cg0onjeGmBRu",
        "outputId": "b8f6555e-7ba2-4421-9609-87913c995a12"
      },
      "execution_count": null,
      "outputs": [
        {
          "output_type": "stream",
          "name": "stdout",
          "text": [
            "name       alice\n",
            "age           25\n",
            "city    new york\n",
            "Name: 0, dtype: object\n"
          ]
        }
      ]
    },
    {
      "cell_type": "code",
      "source": [
        "print((df1['age'] > 20) & (df1['city'] == 'new york'))\n",
        "df1.loc[(df1['age'] > 20) & (df1['city'] == 'new york')]"
      ],
      "metadata": {
        "colab": {
          "base_uri": "https://localhost:8080/",
          "height": 150
        },
        "id": "sS3DAyRsmzM9",
        "outputId": "5f0d6e4b-07b8-4497-c7d8-88639e4a41ad"
      },
      "execution_count": null,
      "outputs": [
        {
          "output_type": "stream",
          "name": "stdout",
          "text": [
            "0     True\n",
            "1    False\n",
            "2    False\n",
            "dtype: bool\n"
          ]
        },
        {
          "output_type": "execute_result",
          "data": {
            "text/plain": [
              "    name  age      city\n",
              "0  alice   25  new york"
            ],
            "text/html": [
              "\n",
              "  <div id=\"df-2ff04ae1-fa8a-4e7d-9d26-cbdfa7f3110d\" class=\"colab-df-container\">\n",
              "    <div>\n",
              "<style scoped>\n",
              "    .dataframe tbody tr th:only-of-type {\n",
              "        vertical-align: middle;\n",
              "    }\n",
              "\n",
              "    .dataframe tbody tr th {\n",
              "        vertical-align: top;\n",
              "    }\n",
              "\n",
              "    .dataframe thead th {\n",
              "        text-align: right;\n",
              "    }\n",
              "</style>\n",
              "<table border=\"1\" class=\"dataframe\">\n",
              "  <thead>\n",
              "    <tr style=\"text-align: right;\">\n",
              "      <th></th>\n",
              "      <th>name</th>\n",
              "      <th>age</th>\n",
              "      <th>city</th>\n",
              "    </tr>\n",
              "  </thead>\n",
              "  <tbody>\n",
              "    <tr>\n",
              "      <th>0</th>\n",
              "      <td>alice</td>\n",
              "      <td>25</td>\n",
              "      <td>new york</td>\n",
              "    </tr>\n",
              "  </tbody>\n",
              "</table>\n",
              "</div>\n",
              "    <div class=\"colab-df-buttons\">\n",
              "\n",
              "  <div class=\"colab-df-container\">\n",
              "    <button class=\"colab-df-convert\" onclick=\"convertToInteractive('df-2ff04ae1-fa8a-4e7d-9d26-cbdfa7f3110d')\"\n",
              "            title=\"Convert this dataframe to an interactive table.\"\n",
              "            style=\"display:none;\">\n",
              "\n",
              "  <svg xmlns=\"http://www.w3.org/2000/svg\" height=\"24px\" viewBox=\"0 -960 960 960\">\n",
              "    <path d=\"M120-120v-720h720v720H120Zm60-500h600v-160H180v160Zm220 220h160v-160H400v160Zm0 220h160v-160H400v160ZM180-400h160v-160H180v160Zm440 0h160v-160H620v160ZM180-180h160v-160H180v160Zm440 0h160v-160H620v160Z\"/>\n",
              "  </svg>\n",
              "    </button>\n",
              "\n",
              "  <style>\n",
              "    .colab-df-container {\n",
              "      display:flex;\n",
              "      gap: 12px;\n",
              "    }\n",
              "\n",
              "    .colab-df-convert {\n",
              "      background-color: #E8F0FE;\n",
              "      border: none;\n",
              "      border-radius: 50%;\n",
              "      cursor: pointer;\n",
              "      display: none;\n",
              "      fill: #1967D2;\n",
              "      height: 32px;\n",
              "      padding: 0 0 0 0;\n",
              "      width: 32px;\n",
              "    }\n",
              "\n",
              "    .colab-df-convert:hover {\n",
              "      background-color: #E2EBFA;\n",
              "      box-shadow: 0px 1px 2px rgba(60, 64, 67, 0.3), 0px 1px 3px 1px rgba(60, 64, 67, 0.15);\n",
              "      fill: #174EA6;\n",
              "    }\n",
              "\n",
              "    .colab-df-buttons div {\n",
              "      margin-bottom: 4px;\n",
              "    }\n",
              "\n",
              "    [theme=dark] .colab-df-convert {\n",
              "      background-color: #3B4455;\n",
              "      fill: #D2E3FC;\n",
              "    }\n",
              "\n",
              "    [theme=dark] .colab-df-convert:hover {\n",
              "      background-color: #434B5C;\n",
              "      box-shadow: 0px 1px 3px 1px rgba(0, 0, 0, 0.15);\n",
              "      filter: drop-shadow(0px 1px 2px rgba(0, 0, 0, 0.3));\n",
              "      fill: #FFFFFF;\n",
              "    }\n",
              "  </style>\n",
              "\n",
              "    <script>\n",
              "      const buttonEl =\n",
              "        document.querySelector('#df-2ff04ae1-fa8a-4e7d-9d26-cbdfa7f3110d button.colab-df-convert');\n",
              "      buttonEl.style.display =\n",
              "        google.colab.kernel.accessAllowed ? 'block' : 'none';\n",
              "\n",
              "      async function convertToInteractive(key) {\n",
              "        const element = document.querySelector('#df-2ff04ae1-fa8a-4e7d-9d26-cbdfa7f3110d');\n",
              "        const dataTable =\n",
              "          await google.colab.kernel.invokeFunction('convertToInteractive',\n",
              "                                                    [key], {});\n",
              "        if (!dataTable) return;\n",
              "\n",
              "        const docLinkHtml = 'Like what you see? Visit the ' +\n",
              "          '<a target=\"_blank\" href=https://colab.research.google.com/notebooks/data_table.ipynb>data table notebook</a>'\n",
              "          + ' to learn more about interactive tables.';\n",
              "        element.innerHTML = '';\n",
              "        dataTable['output_type'] = 'display_data';\n",
              "        await google.colab.output.renderOutput(dataTable, element);\n",
              "        const docLink = document.createElement('div');\n",
              "        docLink.innerHTML = docLinkHtml;\n",
              "        element.appendChild(docLink);\n",
              "      }\n",
              "    </script>\n",
              "  </div>\n",
              "\n",
              "\n",
              "    </div>\n",
              "  </div>\n"
            ],
            "application/vnd.google.colaboratory.intrinsic+json": {
              "type": "dataframe",
              "summary": "{\n  \"name\": \"df1\",\n  \"rows\": 1,\n  \"fields\": [\n    {\n      \"column\": \"name\",\n      \"properties\": {\n        \"dtype\": \"string\",\n        \"num_unique_values\": 1,\n        \"samples\": [\n          \"alice\"\n        ],\n        \"semantic_type\": \"\",\n        \"description\": \"\"\n      }\n    },\n    {\n      \"column\": \"age\",\n      \"properties\": {\n        \"dtype\": \"number\",\n        \"std\": null,\n        \"min\": 25,\n        \"max\": 25,\n        \"num_unique_values\": 1,\n        \"samples\": [\n          25\n        ],\n        \"semantic_type\": \"\",\n        \"description\": \"\"\n      }\n    },\n    {\n      \"column\": \"city\",\n      \"properties\": {\n        \"dtype\": \"string\",\n        \"num_unique_values\": 1,\n        \"samples\": [\n          \"new york\"\n        ],\n        \"semantic_type\": \"\",\n        \"description\": \"\"\n      }\n    }\n  ]\n}"
            }
          },
          "metadata": {},
          "execution_count": 33
        }
      ]
    },
    {
      "cell_type": "code",
      "source": [
        "df=df1.drop('age',axis=1)\n",
        "\n",
        "df=df.rename(columns={'name':'Name'})\n",
        "print(df)"
      ],
      "metadata": {
        "colab": {
          "base_uri": "https://localhost:8080/"
        },
        "id": "BqGW5jweoDSB",
        "outputId": "1dc9edb3-5db2-42d7-f688-f94b8474c45a"
      },
      "execution_count": null,
      "outputs": [
        {
          "output_type": "stream",
          "name": "stdout",
          "text": [
            "      Name           city\n",
            "0    alice       new york\n",
            "1      bob  san francisco\n",
            "2  charlie    los angeles\n"
          ]
        }
      ]
    },
    {
      "cell_type": "code",
      "source": [
        "import matplotlib.pyplot as plt\n",
        "import numpy as np\n"
      ],
      "metadata": {
        "id": "yt2dL5kbZhqD"
      },
      "execution_count": null,
      "outputs": []
    },
    {
      "cell_type": "code",
      "source": [
        "x=[1,2,3,4,5]\n",
        "y=[2,4,9,16,10]\n",
        "plt.plot(x,y,color='red',linestyle='--',marker='o',label='line plot')\n",
        "plt.xlabel('x-axis')\n",
        "plt.ylabel('y-axis')\n",
        "plt.title('line plot')\n",
        "plt.legend()\n",
        "plt.show()"
      ],
      "metadata": {
        "colab": {
          "base_uri": "https://localhost:8080/",
          "height": 472
        },
        "id": "ffQAxSe4aWvY",
        "outputId": "b663f45b-c5b5-4388-a63a-e55ebb2f2a32"
      },
      "execution_count": null,
      "outputs": [
        {
          "output_type": "display_data",
          "data": {
            "text/plain": [
              "<Figure size 640x480 with 1 Axes>"
            ],
            "image/png": "[encoded data removed]"
          },
          "metadata": {}
        }
      ]
    },
    {
      "cell_type": "code",
      "source": [
        "import matplotlib.pyplot as plt\n",
        "import numpy as np\n",
        "x=[5,7,8,7,2,17,2,9,4,11]\n",
        "y=[99,86,87,88,111,86,103,87,94,78]\n",
        "plt.scatter(x,y,color='red',label='scatter plot')\n",
        "plt.xlabel('x-axis')\n",
        "plt.ylabel('y-axis')\n",
        "plt.title('scatter plot')\n",
        "plt.legend()\n",
        "plt.show()"
      ],
      "metadata": {
        "colab": {
          "base_uri": "https://localhost:8080/",
          "height": 472
        },
        "id": "s8XHjqe2cDfr",
        "outputId": "cb7a711e-fefe-42ca-9cc0-376a17331ddf"
      },
      "execution_count": null,
      "outputs": [
        {
          "output_type": "display_data",
          "data": {
            "text/plain": [
              "<Figure size 640x480 with 1 Axes>"
            ],
            "image/png": "[encoded data removed]"
          },
          "metadata": {}
        }
      ]
    },
    {
      "cell_type": "code",
      "source": [
        "import matplotlib.pyplot as plt\n",
        "import numpy as np\n",
        "categories=['A','B','C','D']\n",
        "values=[12,30,15,20]\n",
        "plt.barh(categories,values,color='green',label='bar plot')\n",
        "plt.bar(categories,values,color='green')\n",
        "\n",
        "\n",
        "plt.xlabel('categories')\n",
        "plt.ylabel('values')\n",
        "plt.title('bar plot')\n",
        "plt.legend()\n",
        "plt.show()"
      ],
      "metadata": {
        "colab": {
          "base_uri": "https://localhost:8080/",
          "height": 472
        },
        "id": "JuCl1PI_c7fg",
        "outputId": "65643b98-953e-4361-97b8-1b8fcdcbe943"
      },
      "execution_count": null,
      "outputs": [
        {
          "output_type": "display_data",
          "data": {
            "text/plain": [
              "<Figure size 640x480 with 1 Axes>"
            ],
            "image/png": "[encoded data removed]"
          },
          "metadata": {}
        }
      ]
    },
    {
      "cell_type": "code",
      "source": [
        "import matplotlib.pyplot as plt\n",
        "data=[2,7,8,9,10,5,6,7,8,1,2,3,3,4,5,10]\n",
        "plt.hist(data,bins=5,color='red',label='histogram')\n",
        "plt.xlabel('data')\n",
        "plt.ylabel('frequency')\n",
        "plt.title('histogram')\n",
        "plt.legend()\n",
        "plt.show()\n"
      ],
      "metadata": {
        "colab": {
          "base_uri": "https://localhost:8080/",
          "height": 472
        },
        "id": "ZwEz97i5eD2r",
        "outputId": "23f7182d-e340-4667-f086-597ecf3b5aaf"
      },
      "execution_count": null,
      "outputs": [
        {
          "output_type": "display_data",
          "data": {
            "text/plain": [
              "<Figure size 640x480 with 1 Axes>"
            ],
            "image/png": "[encoded data removed]"
          },
          "metadata": {}
        }
      ]
    },
    {
      "cell_type": "code",
      "source": [
        "import matplotlib.pyplot as plt\n",
        "import numpy as np\n",
        "labels=['apple','banana','orange','cherry']\n",
        "sizes=[30,40,20,10]\n",
        "colors=['red','yellow','orange','green']\n",
        "plt.pie(sizes,labels=labels,colors=colors,autopct='%1.1f%%',shadow=True,startangle=90)\n",
        "plt.title('pie chart')\n",
        "plt.show()"
      ],
      "metadata": {
        "id": "WL3OLG0Pf2F4"
      },
      "execution_count": null,
      "outputs": []
    },
    {
      "cell_type": "code",
      "source": [],
      "metadata": {
        "id": "13bQaj2xgVhi"
      },
      "execution_count": null,
      "outputs": []
    },
    {
      "cell_type": "code",
      "source": [
        "import matplotlib.pyplot as plt\n",
        "import numpy as np\n",
        "x=[10,20,30,40,50]\n",
        "y=[20,40,60,80,100]\n",
        "\n",
        "plt.boxplot([x,y])\n",
        "plt.show()"
      ],
      "metadata": {
        "id": "4fODeh6QgVgD"
      },
      "execution_count": null,
      "outputs": []
    },
    {
      "cell_type": "code",
      "source": [
        "import matplotlib.pyplot as plt\n",
        "import numpy as np\n",
        "x=[10,15,20,25,30]\n",
        "y=[20,25,30,35,40]\n",
        "plt.violinplot([x,y])\n",
        "plt.show()"
      ],
      "metadata": {
        "colab": {
          "base_uri": "https://localhost:8080/",
          "height": 430
        },
        "id": "K5e1NVSShPb7",
        "outputId": "d2e888ae-b905-48c8-89de-61c72d211b71"
      },
      "execution_count": null,
      "outputs": [
        {
          "output_type": "display_data",
          "data": {
            "text/plain": [
              "<Figure size 640x480 with 1 Axes>"
            ],
            "image/png": "[encoded data removed]"
          },
          "metadata": {}
        }
      ]
    },
    {
      "cell_type": "markdown",
      "source": [
        "Linear regression"
      ],
      "metadata": {
        "id": "rjrwgaqqlxkM"
      }
    },
    {
      "cell_type": "code",
      "source": [
        "import matplotlib.pyplot as plt\n",
        "import numpy as np\n",
        "from scipy import stats\n",
        "x=[1,2,3,4,5]\n",
        "y=[2,4,5,4,2]\n",
        "plt.scatter(x,y)\n",
        "plt.show()\n",
        "\n",
        "slope,intercept,r,p,std_err=stats.linregress(x,y)\n"
      ],
      "metadata": {
        "colab": {
          "base_uri": "https://localhost:8080/",
          "height": 430
        },
        "id": "A8rXaq7deze7",
        "outputId": "aacd7b1c-7e2c-4d4f-ae61-ab3d0e8fdbf3"
      },
      "execution_count": 2,
      "outputs": [
        {
          "output_type": "display_data",
          "data": {
            "text/plain": [
              "<Figure size 640x480 with 1 Axes>"
            ],
            "image/png": "[encoded data removed]"
          },
          "metadata": {}
        }
      ]
    },
    {
      "cell_type": "code",
      "source": [
        "# prompt: generate a bad fitted data x and y with many numbers  and use numbers manually\n",
        "\n",
        "# Generate a bad fitted data x and y with many numbers\n",
        "x = [1, 2, 3, 4, 5, 6, 7, 8, 9, 10, 11, 12, 13, 14, 15]\n",
        "y = [3, 1, 4, 1, 5, 9, 2, 6, 5, 3, 5, 8, 9, 7, 2]\n",
        "\n",
        "plt.scatter(x, y)\n",
        "plt.show()\n",
        "\n",
        "slope, intercept, r, p, std_err = stats.linregress(x, y)\n",
        "\n",
        "def predict(x):\n",
        "  return slope * x + intercept\n",
        "\n",
        "# Predict y values for the given x values\n",
        "predicted_y = [predict(i) for i in x]\n",
        "\n",
        "plt.scatter(x, y)\n",
        "plt.plot(x, predicted_y, color='red')\n",
        "plt.show()\n"
      ],
      "metadata": {
        "colab": {
          "base_uri": "https://localhost:8080/",
          "height": 843
        },
        "id": "rILF7q8Nq5ee",
        "outputId": "375cf2b2-845c-4778-b034-dce69eafb5e8"
      },
      "execution_count": 3,
      "outputs": [
        {
          "output_type": "display_data",
          "data": {
            "text/plain": [
              "<Figure size 640x480 with 1 Axes>"
            ],
            "image/png": "[encoded data removed]"
          },
          "metadata": {}
        },
        {
          "output_type": "display_data",
          "data": {
            "text/plain": [
              "<Figure size 640x480 with 1 Axes>"
            ],
            "image/png": "[encoded data removed]"
          },
          "metadata": {}
        }
      ]
    },
    {
      "cell_type": "code",
      "source": [
        "\n",
        "x = [1, 2, 3, 4, 5, 6, 7, 8, 9, 10, 11, 12, 13, 14, 15]\n",
        "y = [3, 1, 4, 1, 5, 9, 2, 6, 5, 3, 5, 8, 9, 7, 2]"
      ],
      "metadata": {
        "id": "mFpqjrdXr4ml"
      },
      "execution_count": null,
      "outputs": []
    },
    {
      "cell_type": "code",
      "source": [
        "# prompt: generate random x and y with many numbers manually for not fitting for a linear regression,enter numbers manually\n",
        "\n",
        "# Generate a bad fitted data x and y with many numbers manually\n",
        "x = [1, 2, 3, 4, 5, 6, 7, 8, 9, 10, 11, 12, 13, 14, 15, 16, 17, 18, 19, 20]\n",
        "y = [1, 4, 1, 5, 9, 2, 6, 5, 3, 5, 8, 9, 7, 2, 3, 1, 4, 1, 5, 9]\n",
        "mymodell=np.polyfit(x,y,3)\n",
        "mymodel=np.poly1d(mymodell)\n",
        "myline=np.linspace(1,20,100)\n",
        "print(mymodel)\n",
        "plt.scatter(x,y)\n",
        "plt.plot(x,mymodel(x),color='red')\n",
        "plt.show()\n",
        "\n",
        "\n"
      ],
      "metadata": {
        "id": "lam-EP9Br4n7"
      },
      "execution_count": null,
      "outputs": []
    },
    {
      "cell_type": "code",
      "source": [
        "from sklearn.metrics import r2_score\n",
        "print(r2_score(y,predicted_y))"
      ],
      "metadata": {
        "colab": {
          "base_uri": "https://localhost:8080/"
        },
        "id": "HFgVOl5DvZEJ",
        "outputId": "63fcd43d-bc98-4dbf-81c3-c4e9ba072545"
      },
      "execution_count": 4,
      "outputs": [
        {
          "output_type": "stream",
          "name": "stdout",
          "text": [
            "0.18418202764976943\n"
          ]
        }
      ]
    }
  ]
}