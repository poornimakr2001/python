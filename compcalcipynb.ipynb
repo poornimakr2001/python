{
  "nbformat": 4,
  "nbformat_minor": 0,
  "metadata": {
    "colab": {
      "provenance": [],
      "authorship_tag": "ABX9TyOURynBw0ChqNP630rXWTzU",
      "include_colab_link": true
    },
    "kernelspec": {
      "name": "python3",
      "display_name": "Python 3"
    },
    "language_info": {
      "name": "python"
    }
  },
  "cells": [
    {
      "cell_type": "markdown",
      "metadata": {
        "id": "view-in-github",
        "colab_type": "text"
      },
      "source": [
        "<a href=\"https://colab.research.google.com/github/poornimakr2001/python/blob/ds/compcalcipynb.ipynb\" target=\"_parent\"><img src=\"https://colab.research.google.com/assets/colab-badge.svg\" alt=\"Open In Colab\"/></a>"
      ]
    },
    {
      "cell_type": "code",
      "execution_count": null,
      "metadata": {
        "colab": {
          "base_uri": "https://localhost:8080/"
        },
        "id": "QExgCMTfXKzQ",
        "outputId": "d9f849e1-97e2-4605-ba97-e0ea6752a5f5"
      },
      "outputs": [
        {
          "output_type": "stream",
          "name": "stdout",
          "text": [
            "Welcome to the Complex Calculator\n",
            "Available operations:\n",
            "1. Addition (+)\n",
            "2. Subtraction (-)\n",
            "3. Multiplication (*)\n",
            "4. Division (/)\n",
            "5. Trigonometric Functions (sin, cos, tan)\n",
            "6. Logarithm (log)\n",
            "7. Complex Number Operations\n"
          ]
        }
      ],
      "source": [
        "import math\n",
        "import cmath\n",
        "\n",
        "def complex_calculator():\n",
        "    print(\"Welcome to the Complex Calculator\")\n",
        "    print(\"Available operations:\")\n",
        "    print(\"1. Addition (+)\")\n",
        "    print(\"2. Subtraction (-)\")\n",
        "    print(\"3. Multiplication (*)\")\n",
        "    print(\"4. Division (/)\")\n",
        "    print(\"5. Trigonometric Functions (sin, cos, tan)\")\n",
        "    print(\"6. Logarithm (log)\")\n",
        "    print(\"7. Complex Number Operations\")\n",
        "\n",
        "    while True:\n",
        "        choice = input(\"Enter operation (or 'quit' to exit): \")\n",
        "\n",
        "        if choice == 'quit':\n",
        "            break\n",
        "        elif choice in ['+', '-', '*', '/']:\n",
        "            num1 = complex(input(\"Enter first number: \"))\n",
        "            num2 = complex(input(\"Enter second number: \"))\n",
        "            if choice == '+':\n",
        "                print(\"Result:\", num1 + num2)\n",
        "            elif choice == '-':\n",
        "                print(\"Result:\", num1 - num2)\n",
        "            elif choice == '*':\n",
        "                print(\"Result:\", num1 * num2)\n",
        "            elif choice == '/':\n",
        "                if num2 != 0:\n",
        "                    print(\"Result:\", num1 / num2)\n",
        "                else:\n",
        "                    print(\"Error: Division by zero is not allowed\")\n",
        "        elif choice in ['sin', 'cos', 'tan']:\n",
        "            angle = float(input(\"Enter angle in radians: \"))\n",
        "            if choice == 'sin':\n",
        "                print(\"Result:\", math.sin(angle))\n",
        "            elif choice == 'cos':\n",
        "                print(\"Result:\", math.cos(angle))\n",
        "            elif choice == 'tan':\n",
        "                print(\"Result:\", math.tan(angle))\n",
        "        elif choice == 'log':\n",
        "            number = float(input(\"Enter number: \"))\n",
        "            base = float(input(\"Enter base (default is e): \") or math.e)\n",
        "            if number > 0:\n",
        "                print(\"Result:\", math.log(number, base))\n",
        "            else:\n",
        "                print(\"Error: Logarithm of a non-positive number is not defined\")\n",
        "        elif choice == '7':\n",
        "            num = complex(input(\"Enter a complex number (in the form a+bj): \"))\n",
        "            print(\"Complex number operations:\")\n",
        "            print(\"Magnitude:\", abs(num))\n",
        "            print(\"Phase (radians):\", cmath.phase(num))\n",
        "            print(\"Conjugate:\", num.conjugate())\n",
        "            print(\"Exponential:\", cmath.exp(num))\n",
        "        else:\n",
        "            print(\"Invalid operation\")\n",
        "\n",
        "complex_calculator()\n"
      ]
    }
  ]
}