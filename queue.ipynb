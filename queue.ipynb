{
  "nbformat": 4,
  "nbformat_minor": 0,
  "metadata": {
    "colab": {
      "provenance": [],
      "authorship_tag": "ABX9TyNCvrgzcY+aNov9atGno8BL",
      "include_colab_link": true
    },
    "kernelspec": {
      "name": "python3",
      "display_name": "Python 3"
    },
    "language_info": {
      "name": "python"
    }
  },
  "cells": [
    {
      "cell_type": "markdown",
      "metadata": {
        "id": "view-in-github",
        "colab_type": "text"
      },
      "source": [
        "<a href=\"https://colab.research.google.com/github/poornimakr2001/python/blob/ds/queue.ipynb\" target=\"_parent\"><img src=\"https://colab.research.google.com/assets/colab-badge.svg\" alt=\"Open In Colab\"/></a>"
      ]
    },
    {
      "cell_type": "code",
      "execution_count": 1,
      "metadata": {
        "colab": {
          "base_uri": "https://localhost:8080/"
        },
        "id": "jXA_8bS-pSvU",
        "outputId": "5297caee-c2c1-4528-e5a7-fc913df696e7"
      },
      "outputs": [
        {
          "output_type": "stream",
          "name": "stdout",
          "text": [
            "Queue after enqueuing 1, 2, 3: [1, 2, 3]\n",
            "Dequeued item: 1\n",
            "Queue after dequeue: [2, 3]\n",
            "Is the queue empty? False\n",
            "Size of the queue: 2\n"
          ]
        }
      ],
      "source": [
        "# Queue implementation using list\n",
        "\n",
        "class Queue:\n",
        "    def __init__(self):\n",
        "        self.queue = []\n",
        "\n",
        "    def is_empty(self):\n",
        "        return len(self.queue) == 0\n",
        "\n",
        "    def enqueue(self, item):\n",
        "        self.queue.append(item)\n",
        "\n",
        "    def dequeue(self):\n",
        "        if self.is_empty():\n",
        "            return \"Queue is empty\"\n",
        "        return self.queue.pop(0)\n",
        "\n",
        "    def size(self):\n",
        "        return len(self.queue)\n",
        "\n",
        "    def display(self):\n",
        "        return self.queue\n",
        "\n",
        "# Example usage\n",
        "q = Queue()\n",
        "q.enqueue(1)\n",
        "q.enqueue(2)\n",
        "q.enqueue(3)\n",
        "print(\"Queue after enqueuing 1, 2, 3:\", q.display())\n",
        "\n",
        "print(\"Dequeued item:\", q.dequeue())\n",
        "print(\"Queue after dequeue:\", q.display())\n",
        "\n",
        "print(\"Is the queue empty?\", q.is_empty())\n",
        "print(\"Size of the queue:\", q.size())\n"
      ]
    },
    {
      "cell_type": "markdown",
      "source": [
        "Queue Class:\n",
        "\n",
        "__init__: Initializes an empty list to represent the queue.\n",
        "is_empty: Checks if the queue is empty.\n",
        "enqueue: Adds an item to the end of the queue.\n",
        "dequeue: Removes and returns the front item of the queue. Returns a message if the queue is empty.\n",
        "size: Returns the number of items in the queue.\n",
        "display: Returns the current state of the queue.\n",
        "\n",
        "Example Usage:\n",
        "\n",
        "Enqueue items 1, 2, and 3.\n",
        "Dequeue an item and display the queue.\n",
        "Check if the queue is empty and get the size of the queue."
      ],
      "metadata": {
        "id": "qQ1FeOp9p2nA"
      }
    }
  ]
}