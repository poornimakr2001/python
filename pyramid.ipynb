{
  "nbformat": 4,
  "nbformat_minor": 0,
  "metadata": {
    "colab": {
      "provenance": [],
      "authorship_tag": "ABX9TyPaYeE21YC468cKCbQ86DOr",
      "include_colab_link": true
    },
    "kernelspec": {
      "name": "python3",
      "display_name": "Python 3"
    },
    "language_info": {
      "name": "python"
    }
  },
  "cells": [
    {
      "cell_type": "markdown",
      "metadata": {
        "id": "view-in-github",
        "colab_type": "text"
      },
      "source": [
        "<a href=\"https://colab.research.google.com/github/poornimakr2001/python/blob/ds/pyramid.ipynb\" target=\"_parent\"><img src=\"https://colab.research.google.com/assets/colab-badge.svg\" alt=\"Open In Colab\"/></a>"
      ]
    },
    {
      "cell_type": "code",
      "execution_count": 1,
      "metadata": {
        "colab": {
          "base_uri": "https://localhost:8080/"
        },
        "id": "5hZCJDpMG7ll",
        "outputId": "56f9eefe-0e66-4165-a0bf-bd2b78c74b13"
      },
      "outputs": [
        {
          "output_type": "stream",
          "name": "stdout",
          "text": [
            "*\n",
            "**\n",
            "***\n",
            "****\n",
            "*****\n"
          ]
        }
      ],
      "source": [
        "# Right-Angled Triangle\n",
        "rows = 5\n",
        "for i in range(1, rows + 1):\n",
        "    print('*' * i)\n"
      ]
    },
    {
      "cell_type": "code",
      "source": [
        "# Inverted Right-Angled Triangle\n",
        "rows = 5\n",
        "for i in range(rows, 0, -1):\n",
        "    print('*' * i)\n"
      ],
      "metadata": {
        "colab": {
          "base_uri": "https://localhost:8080/"
        },
        "id": "HXSHfRkoHNHT",
        "outputId": "6e403732-989e-4092-d70a-0cb556140fee"
      },
      "execution_count": 2,
      "outputs": [
        {
          "output_type": "stream",
          "name": "stdout",
          "text": [
            "*****\n",
            "****\n",
            "***\n",
            "**\n",
            "*\n"
          ]
        }
      ]
    },
    {
      "cell_type": "code",
      "source": [
        "# Pyramid\n",
        "rows = 5\n",
        "for i in range(rows):\n",
        "    print(' ' * (rows - i - 1) + '*' * (2 * i + 1))\n"
      ],
      "metadata": {
        "colab": {
          "base_uri": "https://localhost:8080/"
        },
        "id": "J9zuDXdHHSeP",
        "outputId": "f58ee72f-114e-4235-a2a7-65430ba35a69"
      },
      "execution_count": 3,
      "outputs": [
        {
          "output_type": "stream",
          "name": "stdout",
          "text": [
            "    *\n",
            "   ***\n",
            "  *****\n",
            " *******\n",
            "*********\n"
          ]
        }
      ]
    },
    {
      "cell_type": "code",
      "source": [
        "# Diamond\n",
        "rows = 5\n",
        "# Upper part\n",
        "for i in range(rows):\n",
        "    print(' ' * (rows - i - 1) + '*' * (2 * i + 1))\n",
        "# Lower part\n",
        "for i in range(rows - 2, -1, -1):\n",
        "    print(' ' * (rows - i - 1) + '*' * (2 * i + 1))\n"
      ],
      "metadata": {
        "colab": {
          "base_uri": "https://localhost:8080/"
        },
        "id": "oqXCM8muHWV8",
        "outputId": "75088b8b-5e6d-49ee-e323-e82543dffcaf"
      },
      "execution_count": 4,
      "outputs": [
        {
          "output_type": "stream",
          "name": "stdout",
          "text": [
            "    *\n",
            "   ***\n",
            "  *****\n",
            " *******\n",
            "*********\n",
            " *******\n",
            "  *****\n",
            "   ***\n",
            "    *\n"
          ]
        }
      ]
    },
    {
      "cell_type": "code",
      "source": [
        "# Hollow Square\n",
        "size = 5\n",
        "for i in range(size):\n",
        "    if i == 0 or i == size - 1:\n",
        "        print('*' * size)\n",
        "    else:\n",
        "        print('*' + ' ' * (size - 2) + '*')\n"
      ],
      "metadata": {
        "colab": {
          "base_uri": "https://localhost:8080/"
        },
        "id": "1QOSRvZGHb_E",
        "outputId": "a0b70603-ba10-4fc9-d1e0-572b3adee32b"
      },
      "execution_count": 5,
      "outputs": [
        {
          "output_type": "stream",
          "name": "stdout",
          "text": [
            "*****\n",
            "*   *\n",
            "*   *\n",
            "*   *\n",
            "*****\n"
          ]
        }
      ]
    },
    {
      "cell_type": "code",
      "source": [
        "# Hollow Pyramid\n",
        "rows = 5\n",
        "for i in range(rows):\n",
        "    if i == rows - 1:\n",
        "        print('*' * (2 * i + 1))\n",
        "    else:\n",
        "        print(' ' * (rows - i - 1) + '*' + ' ' * (2 * i - 1) + ('*' if i > 0 else ''))\n"
      ],
      "metadata": {
        "colab": {
          "base_uri": "https://localhost:8080/"
        },
        "id": "zTypKwQbHfiR",
        "outputId": "3619f459-eb38-4945-df81-a51246dc1436"
      },
      "execution_count": 6,
      "outputs": [
        {
          "output_type": "stream",
          "name": "stdout",
          "text": [
            "    *\n",
            "   * *\n",
            "  *   *\n",
            " *     *\n",
            "*********\n"
          ]
        }
      ]
    }
  ]
}