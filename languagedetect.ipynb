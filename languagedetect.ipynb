{
  "nbformat": 4,
  "nbformat_minor": 0,
  "metadata": {
    "colab": {
      "provenance": [],
      "authorship_tag": "ABX9TyMqhKmkMvHVeI3JXehgb7ln",
      "include_colab_link": true
    },
    "kernelspec": {
      "name": "python3",
      "display_name": "Python 3"
    },
    "language_info": {
      "name": "python"
    }
  },
  "cells": [
    {
      "cell_type": "markdown",
      "metadata": {
        "id": "view-in-github",
        "colab_type": "text"
      },
      "source": [
        "<a href=\"https://colab.research.google.com/github/poornimakr2001/python/blob/ds/languagedetect.ipynb\" target=\"_parent\"><img src=\"https://colab.research.google.com/assets/colab-badge.svg\" alt=\"Open In Colab\"/></a>"
      ]
    },
    {
      "cell_type": "code",
      "execution_count": 1,
      "metadata": {
        "colab": {
          "base_uri": "https://localhost:8080/"
        },
        "id": "sZKo2z8GHqkY",
        "outputId": "adeb5e72-203f-48cc-a07d-8d901f7cc3f4"
      },
      "outputs": [
        {
          "output_type": "stream",
          "name": "stdout",
          "text": [
            "Collecting langdetect\n",
            "  Downloading langdetect-1.0.9.tar.gz (981 kB)\n",
            "\u001b[2K     \u001b[90m━━━━━━━━━━━━━━━━━━━━━━━━━━━━━━━━━━━━━━━━\u001b[0m \u001b[32m981.5/981.5 kB\u001b[0m \u001b[31m6.5 MB/s\u001b[0m eta \u001b[36m0:00:00\u001b[0m\n",
            "\u001b[?25h  Preparing metadata (setup.py) ... \u001b[?25l\u001b[?25hdone\n",
            "Requirement already satisfied: six in /usr/local/lib/python3.10/dist-packages (from langdetect) (1.16.0)\n",
            "Building wheels for collected packages: langdetect\n",
            "  Building wheel for langdetect (setup.py) ... \u001b[?25l\u001b[?25hdone\n",
            "  Created wheel for langdetect: filename=langdetect-1.0.9-py3-none-any.whl size=993221 sha256=47cf97948872b552f3a319bdd79383fac35846db5c089216d38439238ad3db4a\n",
            "  Stored in directory: /root/.cache/pip/wheels/95/03/7d/59ea870c70ce4e5a370638b5462a7711ab78fba2f655d05106\n",
            "Successfully built langdetect\n",
            "Installing collected packages: langdetect\n",
            "Successfully installed langdetect-1.0.9\n",
            "Text: This is an English sentence.\n",
            "Detected Language: en\n",
            "\n",
            "Text: Ceci est une phrase en français.\n",
            "Detected Language: fr\n",
            "\n",
            "Text: Esta es una frase en español.\n",
            "Detected Language: es\n",
            "\n",
            "Text: Dies ist ein deutscher Satz.\n",
            "Detected Language: de\n",
            "\n",
            "Text: これは日本語の文です。\n",
            "Detected Language: ja\n",
            "\n",
            "Text: Это предложение на русском языке.\n",
            "Detected Language: ru\n",
            "\n"
          ]
        }
      ],
      "source": [
        "# Step 1: Install the necessary library\n",
        "!pip install langdetect\n",
        "\n",
        "# Step 2: Import the library\n",
        "from langdetect import detect, DetectorFactory\n",
        "from langdetect.lang_detect_exception import LangDetectException\n",
        "\n",
        "# Set seed to make results consistent across runs\n",
        "DetectorFactory.seed = 0\n",
        "\n",
        "# Step 3: Function to detect language\n",
        "def detect_language(text):\n",
        "    try:\n",
        "        # Detect the language\n",
        "        lang = detect(text)\n",
        "        return lang\n",
        "    except LangDetectException:\n",
        "        return \"Could not detect language\"\n",
        "\n",
        "# Step 4: Test the function with different inputs\n",
        "texts = [\n",
        "    \"This is an English sentence.\",\n",
        "    \"Ceci est une phrase en français.\",\n",
        "    \"Esta es una frase en español.\",\n",
        "    \"Dies ist ein deutscher Satz.\",\n",
        "    \"これは日本語の文です。\",\n",
        "    \"Это предложение на русском языке.\"\n",
        "]\n",
        "\n",
        "# Detect and print the language for each text\n",
        "for text in texts:\n",
        "    language = detect_language(text)\n",
        "    print(f\"Text: {text}\\nDetected Language: {language}\\n\")\n"
      ]
    }
  ]
}