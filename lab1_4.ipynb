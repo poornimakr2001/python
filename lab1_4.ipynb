{
  "nbformat": 4,
  "nbformat_minor": 0,
  "metadata": {
    "colab": {
      "provenance": [],
      "authorship_tag": "ABX9TyMIaPkH8KjbRtEen3VIhZg8",
      "include_colab_link": true
    },
    "kernelspec": {
      "name": "python3",
      "display_name": "Python 3"
    },
    "language_info": {
      "name": "python"
    }
  },
  "cells": [
    {
      "cell_type": "markdown",
      "metadata": {
        "id": "view-in-github",
        "colab_type": "text"
      },
      "source": [
        "<a href=\"https://colab.research.google.com/github/poornimakr2001/python/blob/ds/lab1_4.ipynb\" target=\"_parent\"><img src=\"https://colab.research.google.com/assets/colab-badge.svg\" alt=\"Open In Colab\"/></a>"
      ]
    },
    {
      "cell_type": "code",
      "execution_count": 1,
      "metadata": {
        "colab": {
          "base_uri": "https://localhost:8080/"
        },
        "id": "KfU2gEGeV5TI",
        "outputId": "715e5a70-5b69-4020-aa6e-77d56f81aeed"
      },
      "outputs": [
        {
          "output_type": "stream",
          "name": "stdout",
          "text": [
            "Number of integers divisible by 7 between 100 and 200: 14\n",
            "Sum of these integers: 2107\n"
          ]
        }
      ],
      "source": [
        "# Initialize variables to store the count and sum\n",
        "count = 0\n",
        "total_sum = 0\n",
        "\n",
        "# Iterate through the range of numbers greater than 100 and less than 200\n",
        "for num in range(101, 200):\n",
        "    if num % 7 == 0:\n",
        "        count += 1\n",
        "        total_sum += num\n",
        "\n",
        "# Display the results\n",
        "print(f\"Number of integers divisible by 7 between 100 and 200: {count}\")\n",
        "print(f\"Sum of these integers: {total_sum}\")\n"
      ]
    }
  ]
}