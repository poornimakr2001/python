{
  "nbformat": 4,
  "nbformat_minor": 0,
  "metadata": {
    "colab": {
      "provenance": [],
      "authorship_tag": "ABX9TyNtWcaxsnICgD7PFbBCJ8uJ",
      "include_colab_link": true
    },
    "kernelspec": {
      "name": "python3",
      "display_name": "Python 3"
    },
    "language_info": {
      "name": "python"
    }
  },
  "cells": [
    {
      "cell_type": "markdown",
      "metadata": {
        "id": "view-in-github",
        "colab_type": "text"
      },
      "source": [
        "<a href=\"https://colab.research.google.com/github/poornimakr2001/python/blob/ds/linkedqueue.ipynb\" target=\"_parent\"><img src=\"https://colab.research.google.com/assets/colab-badge.svg\" alt=\"Open In Colab\"/></a>"
      ]
    },
    {
      "cell_type": "code",
      "execution_count": 1,
      "metadata": {
        "colab": {
          "base_uri": "https://localhost:8080/"
        },
        "id": "TXRvjZgsx9A7",
        "outputId": "e892c298-1f35-4b92-e4fa-2a7059ccd3ae"
      },
      "outputs": [
        {
          "output_type": "stream",
          "name": "stdout",
          "text": [
            "10 -> 20 -> 30 -> None\n",
            "10\n",
            "20 -> 30 -> None\n",
            "20\n"
          ]
        }
      ],
      "source": [
        "class Node:\n",
        "    def __init__(self, data):\n",
        "        self.data = data\n",
        "        self.next = None\n",
        "\n",
        "class LinkedQueue:\n",
        "    def __init__(self):\n",
        "        self.front = None\n",
        "        self.rear = None\n",
        "\n",
        "    def is_empty(self):\n",
        "        return self.front is None\n",
        "\n",
        "    def enqueue(self, data):\n",
        "        new_node = Node(data)\n",
        "        if self.rear is None:\n",
        "            self.front = self.rear = new_node\n",
        "            return\n",
        "        self.rear.next = new_node\n",
        "        self.rear = new_node\n",
        "\n",
        "    def dequeue(self):\n",
        "        if self.is_empty():\n",
        "            raise IndexError(\"Queue is empty\")\n",
        "        temp = self.front\n",
        "        self.front = temp.next\n",
        "        if self.front is None:\n",
        "            self.rear = None\n",
        "        return temp.data\n",
        "\n",
        "    def peek(self):\n",
        "        if self.is_empty():\n",
        "            raise IndexError(\"Queue is empty\")\n",
        "        return self.front.data\n",
        "\n",
        "    def display(self):\n",
        "        if self.is_empty():\n",
        "            print(\"Queue is empty\")\n",
        "        else:\n",
        "            current = self.front\n",
        "            while current:\n",
        "                print(current.data, end=\" -> \")\n",
        "                current = current.next\n",
        "            print(\"None\")\n",
        "\n",
        "# Example usage:\n",
        "queue = LinkedQueue()\n",
        "queue.enqueue(10)\n",
        "queue.enqueue(20)\n",
        "queue.enqueue(30)\n",
        "queue.display()  # Output: 10 -> 20 -> 30 -> None\n",
        "\n",
        "print(queue.dequeue())  # Output: 10\n",
        "queue.display()  # Output: 20 -> 30 -> None\n",
        "print(queue.peek())  # Output: 20\n"
      ]
    }
  ]
}