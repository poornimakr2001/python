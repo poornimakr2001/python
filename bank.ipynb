{
  "nbformat": 4,
  "nbformat_minor": 0,
  "metadata": {
    "colab": {
      "provenance": [],
      "authorship_tag": "ABX9TyOBsuS/l1Nh9vFuV7WjSYi1",
      "include_colab_link": true
    },
    "kernelspec": {
      "name": "python3",
      "display_name": "Python 3"
    },
    "language_info": {
      "name": "python"
    }
  },
  "cells": [
    {
      "cell_type": "markdown",
      "metadata": {
        "id": "view-in-github",
        "colab_type": "text"
      },
      "source": [
        "<a href=\"https://colab.research.google.com/github/poornimakr2001/python/blob/ds/bank.ipynb\" target=\"_parent\"><img src=\"https://colab.research.google.com/assets/colab-badge.svg\" alt=\"Open In Colab\"/></a>"
      ]
    },
    {
      "cell_type": "code",
      "execution_count": 3,
      "metadata": {
        "colab": {
          "base_uri": "https://localhost:8080/"
        },
        "id": "ilhsmRE2tvZ3",
        "outputId": "83d49509-546c-453f-9132-2fbfd9e3ae0e"
      },
      "outputs": [
        {
          "output_type": "stream",
          "name": "stdout",
          "text": [
            "Account name: John Doe\n",
            "Balance: 1000\n"
          ]
        }
      ],
      "source": [
        "class Account:\n",
        "    def __init__(self, name, balance):\n",
        "        self.name = name\n",
        "        self.balance = balance\n",
        "\n",
        "    def deposit(self, amount):\n",
        "        self.balance += amount\n",
        "        print(f\"Deposited {amount}.New balance is{self.balance}\")\n",
        "\n",
        "    def withdraw(self, amount):\n",
        "        if self.balance >= amount:\n",
        "            self.balance -= amount\n",
        "        else:\n",
        "            print(\"Insufficient funds\")\n",
        "\n",
        "    def get_balance(self):\n",
        "        return self.balance\n",
        "\n",
        "    def __str__(self):\n",
        "        return f\"Account name: {self.name}\\nBalance: {self.balance}\"\n",
        "class SavingsAccount(Account):\n",
        "    def __init__(self, name, balance, interest_rate):\n",
        "        super().__init__(name, balance)\n",
        "        self.interest_rate = interest_rate\n",
        "\n",
        "    def add_interest(self):\n",
        "        intrest = self.balance * self.interest_rate\n",
        "        self.balance += intrest\n",
        "        return intrest\n",
        "\n",
        "    if __name__ == \"__main__\":\n",
        "        account = Account(\"John Doe\", 1000)\n",
        "        print(account)"
      ]
    }
  ]
}