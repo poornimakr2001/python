{
  "nbformat": 4,
  "nbformat_minor": 0,
  "metadata": {
    "colab": {
      "provenance": [],
      "authorship_tag": "ABX9TyPA2BvRWnrXg+5NFC8paD61",
      "include_colab_link": true
    },
    "kernelspec": {
      "name": "python3",
      "display_name": "Python 3"
    },
    "language_info": {
      "name": "python"
    }
  },
  "cells": [
    {
      "cell_type": "markdown",
      "metadata": {
        "id": "view-in-github",
        "colab_type": "text"
      },
      "source": [
        "<a href=\"https://colab.research.google.com/github/poornimakr2001/python/blob/ds/lab1_2.ipynb\" target=\"_parent\"><img src=\"https://colab.research.google.com/assets/colab-badge.svg\" alt=\"Open In Colab\"/></a>"
      ]
    },
    {
      "cell_type": "code",
      "execution_count": 1,
      "metadata": {
        "colab": {
          "base_uri": "https://localhost:8080/"
        },
        "id": "eSHf7LSNL17R",
        "outputId": "29e552ab-d9ef-420c-8b89-09a34e11214a"
      },
      "outputs": [
        {
          "output_type": "stream",
          "name": "stdout",
          "text": [
            "Enter the number of units consumed: 54\n",
            "Total electricity bill: Rs. 100.00\n"
          ]
        }
      ],
      "source": [
        "# Function to calculate the electricity bill\n",
        "def calculate_bill(units):\n",
        "    if units <= 200:\n",
        "        bill = units * 0.50\n",
        "    elif units <= 400:\n",
        "        bill = (200 * 0.50) + (units - 200) * 0.65\n",
        "    elif units <= 600:\n",
        "        bill = (200 * 0.50) + (200 * 0.65) + (units - 400) * 0.80\n",
        "    else:\n",
        "        bill = (200 * 0.50) + (200 * 0.65) + (200 * 0.80) + (units - 600) * 1.00\n",
        "\n",
        "    # Check if the bill exceeds Rs. 400 for surcharge\n",
        "    if bill > 400:\n",
        "        bill = bill + (0.15 * bill)\n",
        "\n",
        "    # Ensure the minimum bill is Rs. 100\n",
        "    if bill < 100:\n",
        "        bill = 100\n",
        "\n",
        "    return bill\n",
        "\n",
        "# Example usage\n",
        "units_consumed = int(input(\"Enter the number of units consumed: \"))\n",
        "total_bill = calculate_bill(units_consumed)\n",
        "print(f\"Total electricity bill: Rs. {total_bill:.2f}\")\n"
      ]
    }
  ]
}